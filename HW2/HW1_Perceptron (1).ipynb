{
 "cells": [
  {
   "cell_type": "markdown",
   "metadata": {
    "id": "vryXqEjDN0-Y"
   },
   "source": [
    "提取資料到array"
   ]
  },
  {
   "cell_type": "code",
   "execution_count": 1,
   "metadata": {},
   "outputs": [],
   "source": [
    "import cv2\n",
    "import numpy as np\n"
   ]
  },
  {
   "cell_type": "code",
   "execution_count": 2,
   "metadata": {},
   "outputs": [],
   "source": [
    "x_train = np.load('feature/train_features.npy', allow_pickle=True)\n",
    "y_train = np.load('feature/train_labels.npy', allow_pickle=True)\n",
    "x_val = np.load('feature/val_features.npy', allow_pickle=True)\n",
    "y_val = np.load('feature/val_labels.npy', allow_pickle=True)\n",
    "x_test = np.load('feature/test_features.npy', allow_pickle=True)\n",
    "y_test = np.load('feature/test_labels.npy', allow_pickle=True)"
   ]
  },
  {
   "cell_type": "code",
   "execution_count": 3,
   "metadata": {},
   "outputs": [
    {
     "name": "stdout",
     "output_type": "stream",
     "text": [
      "(450, 2916)\n"
     ]
    }
   ],
   "source": [
    "print(np.shape(x_test))\n"
   ]
  },
  {
   "cell_type": "code",
   "execution_count": 4,
   "metadata": {},
   "outputs": [
    {
     "name": "stdout",
     "output_type": "stream",
     "text": [
      "1\n"
     ]
    }
   ],
   "source": [
    "print(y_test[10])"
   ]
  },
  {
   "cell_type": "markdown",
   "metadata": {},
   "source": [
    "Perceptron"
   ]
  },
  {
   "cell_type": "code",
   "execution_count": 5,
   "metadata": {},
   "outputs": [
    {
     "data": {
      "text/plain": [
       "Perceptron()"
      ]
     },
     "execution_count": 5,
     "metadata": {},
     "output_type": "execute_result"
    }
   ],
   "source": [
    "from sklearn.linear_model import Perceptron\n",
    "clf = Perceptron()\n",
    "clf.fit(x_test, y_test)"
   ]
  },
  {
   "cell_type": "markdown",
   "metadata": {},
   "source": [
    "- 訓練集準確度"
   ]
  },
  {
   "cell_type": "code",
   "execution_count": 6,
   "metadata": {},
   "outputs": [
    {
     "name": "stdout",
     "output_type": "stream",
     "text": [
      "Perceptron Classifier\n",
      "validation_data_accuracy:0.036573233320173704\n",
      "CPU times: user 12.6 s, sys: 6.75 s, total: 19.3 s\n",
      "Wall time: 12.7 s\n"
     ]
    }
   ],
   "source": [
    "%%time\n",
    "\n",
    "from sklearn.metrics import accuracy_score\n",
    "print('Perceptron Classifier')\n",
    "\n",
    "#Perceptron classifier\n",
    "train_pred_perceptron = clf.predict(x_train)\n",
    "train_accuracy = accuracy_score(y_train, train_pred_perceptron)\n",
    "print(f'validation_data_accuracy:{train_accuracy}')\n"
   ]
  },
  {
   "cell_type": "markdown",
   "metadata": {},
   "source": [
    "- 驗證集準確度"
   ]
  },
  {
   "cell_type": "code",
   "execution_count": 7,
   "metadata": {},
   "outputs": [
    {
     "name": "stdout",
     "output_type": "stream",
     "text": [
      "Perceptron Classifier\n",
      "validation_data_accuracy:0.03111111111111111\n",
      "CPU times: user 101 ms, sys: 64.8 ms, total: 166 ms\n",
      "Wall time: 79.8 ms\n"
     ]
    }
   ],
   "source": [
    "%%time\n",
    "\n",
    "from sklearn.metrics import accuracy_score\n",
    "print('Perceptron Classifier')\n",
    "\n",
    "# valid Perceptron classifier\n",
    "val_pred_perceptron = clf.predict(x_val)\n",
    "val_accuracy = accuracy_score(y_val, val_pred_perceptron)\n",
    "print(f'validation_data_accuracy:{val_accuracy}')"
   ]
  },
  {
   "cell_type": "markdown",
   "metadata": {},
   "source": [
    "- 測試集準確度"
   ]
  },
  {
   "cell_type": "code",
   "execution_count": 8,
   "metadata": {},
   "outputs": [
    {
     "name": "stdout",
     "output_type": "stream",
     "text": [
      "test_data_accuracy:0.9666666666666667\n",
      "CPU times: user 362 ms, sys: 294 ms, total: 657 ms\n",
      "Wall time: 83.2 ms\n"
     ]
    }
   ],
   "source": [
    "%%time\n",
    "# test Perceptron classifier\n",
    "test_pred_perceptron = clf.predict(x_test)\n",
    "test_accuracy = accuracy_score(y_test, test_pred_perceptron)\n",
    "print(f'test_data_accuracy:{test_accuracy}')"
   ]
  }
 ],
 "metadata": {
  "accelerator": "GPU",
  "colab": {
   "provenance": []
  },
  "gpuClass": "standard",
  "kernelspec": {
   "display_name": "Python 3",
   "language": "python",
   "name": "python3"
  },
  "language_info": {
   "codemirror_mode": {
    "name": "ipython",
    "version": 3
   },
   "file_extension": ".py",
   "mimetype": "text/x-python",
   "name": "python",
   "nbconvert_exporter": "python",
   "pygments_lexer": "ipython3",
   "version": "3.6.9"
  },
  "vscode": {
   "interpreter": {
    "hash": "fb4569285eef3a3450cb62085a5b1e0da4bce0af555edc33dcf29baf3acc1368"
   }
  }
 },
 "nbformat": 4,
 "nbformat_minor": 4
}
