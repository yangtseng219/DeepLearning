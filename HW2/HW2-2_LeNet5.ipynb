{
 "cells": [
  {
   "cell_type": "code",
   "execution_count": 1,
   "id": "e1745ab1-3063-44ac-8785-f9c9f92149e6",
   "metadata": {},
   "outputs": [],
   "source": [
    "import numpy as np\n",
    "from sklearn.metrics import accuracy_score\n",
    "from tqdm.notebook import tqdm\n",
    "import random\n",
    "import math"
   ]
  },
  {
   "cell_type": "code",
   "execution_count": 2,
   "id": "b3e6cb27-2cd0-4bfa-a210-4caecc6f91b5",
   "metadata": {},
   "outputs": [],
   "source": [
    "#載入圖片特徵\n",
    "#於image_feature.ipynb中實作並儲存\n",
    "train_features = np.load('feature/train_features_lenet.npy', allow_pickle=True)\n",
    "train_labels = np.load('feature/train_labels.npy', allow_pickle=True)\n",
    "val_features = np.load('feature/val_features_lenet.npy', allow_pickle=True)\n",
    "val_labels = np.load('feature/val_labels.npy', allow_pickle=True)\n",
    "test_features = np.load('feature/test_features_lenet.npy', allow_pickle=True)\n",
    "test_labels = np.load('feature/test_labels.npy', allow_pickle=True)"
   ]
  },
  {
   "cell_type": "code",
   "execution_count": 3,
   "id": "53065228-8fe9-4cc9-8703-3605653958ec",
   "metadata": {},
   "outputs": [],
   "source": [
    "def one_hot_encoding(y):\n",
    "    y=y.astype(int) #將label的0~49轉成數字\n",
    "    num_classes = 50 #共50個label\n",
    "    y_onehot = np.zeros((len(y), num_classes))\n",
    "    y_onehot[np.arange(len(y)), y] = 1 #轉成one hot\n",
    "    return y_onehot\n",
    "\n",
    "def union_shuffle(X, y):\n",
    "    X=X.astype(float) #features的原始讀取到的資料型態是object，轉成float\n",
    "    index = np.arange(X.shape[0])\n",
    "    np.random.shuffle(index) #將資料排序打亂\n",
    "    return X[index], y[index]\n"
   ]
  },
  {
   "cell_type": "code",
   "execution_count": 4,
   "id": "9269af38-e703-4707-95f2-4e90e38ac46b",
   "metadata": {},
   "outputs": [],
   "source": [
    "# One-hot encode labels\n",
    "y_train = one_hot_encoding(train_labels)\n",
    "y_valid = one_hot_encoding(val_labels)\n",
    "y_test = one_hot_encoding(test_labels)\n",
    "\n",
    "# Shuffle data\n",
    "x_train, y_train = union_shuffle(train_features, y_train)\n",
    "x_val, y_val = union_shuffle(val_features, y_valid)\n",
    "x_test, y_test = union_shuffle(test_features, y_test)"
   ]
  },
  {
   "cell_type": "markdown",
   "id": "2400c0a6-da95-4fb8-bb8a-b672327d6919",
   "metadata": {},
   "source": [
    "## LeNet5"
   ]
  },
  {
   "cell_type": "markdown",
   "id": "37f4a283-9068-4ef8-b407-6259947db8ff",
   "metadata": {},
   "source": [
    "。Reference: https://github.com/chuanqi305/LeNet5"
   ]
  },
  {
   "cell_type": "markdown",
   "id": "20f9dc0c-0291-4b93-8067-189a58d156c7",
   "metadata": {},
   "source": [
    "超參數設定"
   ]
  },
  {
   "cell_type": "code",
   "execution_count": 5,
   "id": "4879ef40-5b88-4fe7-9be3-cb49107b95ff",
   "metadata": {},
   "outputs": [],
   "source": [
    "class Trainable(object):\n",
    "    learning_rate = 0.0003\n",
    "    learning_rate_decay = 0.001\n",
    "    momentum = 0.95 #用於梯度下降算法中加速模型收斂\n",
    "    epoch = 10\n",
    "    batch_size = 32\n",
    "    weight_decay = 0.001 #抑制更新參數的幅度\n",
    "\n",
    "    def __init__(self):\n",
    "        self.weight_diff = 0\n",
    "        self.bias_diff = 0\n",
    "    \n",
    "    #sgd用於反向傳播來更新優化權重(Weight)和偏差(bias)，增加穩定性與加速收斂過程\n",
    "    def sgd_momentum(self, weight_diff, bias_diff):\n",
    "        self.weight_diff = self.momentum * self.weight_diff + (1 - self.momentum) * weight_diff\n",
    "        self.bias_diff = self.momentum * self.bias_diff + (1 - self.momentum) * bias_diff\n",
    "        return self.weight_diff, self.bias_diff"
   ]
  },
  {
   "cell_type": "code",
   "execution_count": 6,
   "id": "35378ca7-00f5-4252-b31a-8a6a2288a625",
   "metadata": {},
   "outputs": [],
   "source": [
    "class Conv(Trainable): #繼承Trainable\n",
    "    def __init__(self, name, kernel, inc, outc):\n",
    "        super(Conv, self).__init__()\n",
    "        self.name = name\n",
    "        self.kernel = kernel\n",
    "        self.inc = inc\n",
    "        self.outc = outc\n",
    "        self.weight = np.random.randn(kernel, kernel, inc, outc) * np.sqrt(2.0 / (kernel * kernel * inc)) #msra\n",
    "        self.bias = np.zeros(outc)\n",
    "\n",
    "    def forward(self, x):\n",
    "        self.x = x\n",
    "        k = self.kernel #根據原始會傳入kernel是5 > 5*5的卷積核\n",
    "        n, h, w, c = x.shape #(batch_size, height, width, channels)\n",
    "        \n",
    "        #輸出28*28的feature map\n",
    "        h_out = h - (k - 1)  #32*32經過5*5的卷積核，維度變28*28 > 32 - (5-1) =28\n",
    "        w_out = w - (k - 1) #寬跟高同理\n",
    "        \n",
    "        weight = self.weight.reshape(-1, self.outc) \n",
    "        #第一個維度被拉平以表示卷積核中所有權重的總數，第二個維度表示輸出通道的數量(6)。\n",
    "        #表示6張feature map，每張map都有各自的權重\n",
    "        \n",
    "        output = np.zeros((n, h_out, w_out, self.outc)) #輸出28*28的6張特徵map\n",
    "        for i in range(h_out):\n",
    "            for j in range(w_out):\n",
    "                inp = x[:, i:i+k, j:j+k, :].reshape(n, -1) #每次跑kernel=5，5*5矩陣的卷積核\n",
    "                out = inp.dot(weight) + self.bias #乘上權重再加上偏差\n",
    "                output[:, i, j, :] = out.reshape(n, -1)\n",
    "                #i,j是迴圈變數對應到輸出中每個卷積區域的位置\n",
    "                #out 經過 reshape 變形成形狀為 (n, -1)，使其能夠與 weight 相乘，並將結果加上偏差項 self.bias\n",
    "                #最後，將得到的卷積結果再次變形成形狀為 (n, -1)，並將其存儲在 output 的對應位置 (i, j) 中。\n",
    "        return output\n",
    "\n",
    "    def backward(self, diff):\n",
    "        n, h, w, c = diff.shape\n",
    "        k = self.kernel\n",
    "        h_in = h + (k - 1)\n",
    "        w_in = w + (k - 1)\n",
    "\n",
    "        weight_diff = np.zeros((k, k, self.inc, self.outc))\n",
    "        for i in range(k):\n",
    "            for j in range(k):\n",
    "                #inp = (n, 28, 28, c) => (n*28*28, c) => (c, n*28*28)\n",
    "                inp = self.x[:, i:i+h, j:j+w, :].reshape(-1, self.inc).T\n",
    "                #diff = n, 28, 28, 6 => (n*28*28, 6)\n",
    "                diff_out = diff.reshape(-1, self.outc)\n",
    "                weight_diff[i, j, :, :] = inp.dot(diff_out)\n",
    "        bias_diff = np.sum(diff, axis=(0, 1, 2))\n",
    "\n",
    "        pad = k - 1\n",
    "        diff_pad = np.pad(diff, ((0, 0), (pad, pad), (pad, pad), (0, 0)), 'constant')\n",
    "        rotated_weight = self.weight[::-1, ::-1, :, :].transpose(0, 1, 3, 2).reshape(-1, self.inc)\n",
    "        back_diff = np.zeros((n, h_in, w_in, self.inc))\n",
    "        for i in range(h_in):\n",
    "            for j in range(w_in):\n",
    "                diff_out = diff_pad[:, i:i+k, j:j+k, :].reshape(n, -1)\n",
    "                out = diff_out.dot(rotated_weight)\n",
    "                back_diff[:, i, j, :] = out.reshape(n, -1)\n",
    "\n",
    "        weight_diff, bias_diff = self.sgd_momentum(weight_diff, bias_diff)\n",
    "        self.weight -= Trainable.learning_rate * weight_diff + Trainable.weight_decay * self.weight\n",
    "        self.bias -= Trainable.learning_rate * bias_diff + Trainable.weight_decay * self.bias\n",
    "\n",
    "        return back_diff"
   ]
  },
  {
   "cell_type": "code",
   "execution_count": 7,
   "id": "12c822f4-0446-477f-8960-74c4d2445fc7",
   "metadata": {},
   "outputs": [],
   "source": [
    "class Pooling():\n",
    "    def forward(self, x):\n",
    "        n, h, w, c = x.shape #n=batch size，表示有幾筆資料在同一個 batch中，c=6(6張maps)\n",
    "        x_grid = x.reshape(n, h // 2, 2, w // 2, 2, c) #第一層的輸出是28*28，經過2*2的window，step是2，會得到14*14，因此高跟寬都除以2\n",
    "        out = np.max(x_grid, axis=(2, 4)) #每個kernel中取最大值，kernel為2*2=4\n",
    "        self.mask = (out.reshape(n, h // 2, 1, w // 2, 1, c) == x_grid) #記錄每個子區域中哪個位置上的像素值是最大值\n",
    "        return out\n",
    "\n",
    "    def backward(self, diff):\n",
    "        n, h, w, c = diff.shape\n",
    "        diff_grid = diff.reshape(n, h, 1, w, 1, c)\n",
    "        return (diff_grid * self.mask).reshape(n, h * 2, w * 2, c)\n"
   ]
  },
  {
   "cell_type": "code",
   "execution_count": 8,
   "id": "fd59ab9a-6c89-4e25-8453-9879917841ae",
   "metadata": {},
   "outputs": [],
   "source": [
    "class FC(Trainable):\n",
    "    def __init__(self, name, inc, outc): #inc=輸入特徵的數量，outc=輸出特徵的向量\n",
    "        super(FC, self).__init__()\n",
    "        self.name = name\n",
    "        self.weight = np.random.randn(inc, outc) * np.sqrt(2.0 / inc) #msra初始化\n",
    "        self.bias = np.zeros(outc)\n",
    "\n",
    "    def forward(self, x):\n",
    "        self.origin_shape = x.shape\n",
    "        if x.ndim == 4:\n",
    "            x = x.reshape(x.shape[0], -1) #(n, h, w, c)轉換成二維 (n, h*w*c)\n",
    "        self.x = x\n",
    "        return x.dot(self.weight) + self.bias #更新，銓重矩陣相乘加上bias\n",
    "   \n",
    "    def backward(self, diff):\n",
    "        #diff = (n, 10)\n",
    "        #self.x = (n, 1024) => (1024, n)\n",
    "        weight_diff = self.x.T.dot(diff)\n",
    "        bias_diff = np.sum(diff, axis=0)\n",
    "        #weight = (1024, 10) => (10, 1024), back_diff = (n, 1024)\n",
    "        back_diff = diff.dot(self.weight.T).reshape(self.origin_shape)\n",
    "\n",
    "        weight_diff, bias_diff = self.sgd_momentum(weight_diff, bias_diff)\n",
    "        self.weight -= Trainable.learning_rate * weight_diff + Trainable.weight_decay * self.weight\n",
    "        self.bias -= Trainable.learning_rate * bias_diff + Trainable.weight_decay * self.bias\n",
    "        \n",
    "        return back_diff"
   ]
  },
  {
   "cell_type": "markdown",
   "id": "0b9f199c-7755-4a02-82ac-d9df57e3d6e2",
   "metadata": {},
   "source": [
    "## activation function\n",
    "* sigmoid\n",
    "* softmax"
   ]
  },
  {
   "cell_type": "code",
   "execution_count": 9,
   "id": "b0c88fcb-dae6-4ebd-9efb-130166b51f98",
   "metadata": {},
   "outputs": [],
   "source": [
    "class sigmoid():\n",
    "    def __init__(self):\n",
    "        pass\n",
    "    def forward(self,x):\n",
    "        out = 1 / (1 + np.exp(-x))\n",
    "        self.out = out\n",
    "        return out\n",
    "    def backward(self, dout):\n",
    "        dx = dout * self.out * (1 - self.out)\n",
    "        return dx\n",
    "    \n",
    "class SoftmaxLoss():\n",
    "    def forward(self, x):\n",
    "        softmax = np.exp(x) / np.sum(np.exp(x), axis=1).reshape(-1, 1)\n",
    "        self.softmax = softmax #shape是(32,50)，32是因為每個batch送進32張，預測50個label屬於哪一個\n",
    "        output = np.argmax(softmax, axis=1) #取得每個row最大index的位置，即為預測的label位置\n",
    "        \n",
    "        if not hasattr(self, 'y'):\n",
    "            return softmax\n",
    "        \n",
    "        y = self.y\n",
    "        label = np.argmax(y, axis=1) #取得每個row最大index的位置，即為原始正確label的位置\n",
    "        loss = -np.sum(y * np.log(softmax) + (1 - y) * np.log(1 - softmax))\n",
    "        # print(len(label))\n",
    "        acc_top1 = np.sum(output==label)/ float(len(label)) #預測的output和實際答案的label進行準確度\n",
    "        acc_top5 = len([i for i in range(len(label)) if label[i] in np.argsort(softmax,axis=1)[i,:5]])/ float(len(label))\n",
    "        return loss, acc_top1, acc_top5\n",
    "\n",
    "    def backward(self, diff):\n",
    "        return self.softmax - self.y \n",
    "   \n",
    "    def set_label(self, label):\n",
    "        self.y = label"
   ]
  },
  {
   "cell_type": "code",
   "execution_count": 10,
   "id": "a0f8d5c5-af09-4505-ae28-64e277250cb5",
   "metadata": {},
   "outputs": [],
   "source": [
    "def top5_acc(labels, probs):\n",
    "    correct = 0\n",
    "    for i, p in enumerate(probs):\n",
    "        top5_y = np.argsort(p)[-5:]\n",
    "        if labels[i] in top5_y:\n",
    "            correct += 1\n",
    "    \n",
    "    return correct / len(labels)"
   ]
  },
  {
   "cell_type": "code",
   "execution_count": 11,
   "id": "ee2ca403-c06a-4d23-9d8a-f0c64c3c0cd4",
   "metadata": {},
   "outputs": [],
   "source": [
    "def CrossEntropy(probs, Y):\n",
    "    \"\"\"\n",
    "    probs: 模型預測出的每個類別的機率，形狀為 (m, n_classes)\n",
    "    Y: 真實標籤，形狀為 (m, n_classes)，其中每一行為 one-hot 編碼\n",
    "\n",
    "    Returns:\n",
    "    loss: 交叉熵損失\n",
    "    \"\"\"\n",
    "    m = Y.shape[0]\n",
    "    loss = -np.sum(Y * np.log(probs + 1e-12)) / m  #為了避免出現機率為 0 導致的 log(0) 錯誤，將 probs 加上一個很小的數值 1e-12。\n",
    "    return loss\n"
   ]
  },
  {
   "cell_type": "markdown",
   "id": "0432cc91-07fd-4f98-b553-68504c6db38c",
   "metadata": {},
   "source": [
    "* 最大池化層的目的是降低特徵圖的維度，並保留特徵圖的主要特徵\n",
    "* sigmoid激活函數通常會在卷積層後使用，用來將卷積層的輸出映射到0~1之間的概率值\n",
    "* 原作者將激活函數放在pooling層之後，因此將激活函數調整到卷積層和池化層中間"
   ]
  },
  {
   "cell_type": "code",
   "execution_count": 70,
   "id": "b0eb3406-60f4-46e3-afab-188039deb61b",
   "metadata": {},
   "outputs": [],
   "source": [
    "class LeNet:\n",
    "    def __init__(self):\n",
    "        #卷積層1\n",
    "        conv1 = Conv(\"conv1\", 5, 1, 6) \n",
    "        #name, kernrl:5, input channel:1, 輸出通道:6 (6張feature map)\n",
    "        \n",
    "        #激活函數\n",
    "        sigmoid1 = sigmoid()\n",
    "        \n",
    "        #池化層1\n",
    "        pool1 = Pooling() \n",
    "        \n",
    "        #卷積層2\n",
    "        conv2 = Conv(\"conv2\", 5, 6, 16)\n",
    "        \n",
    "        #激活函數\n",
    "        sigmoid2 = sigmoid()\n",
    "        \n",
    "        #池化層2\n",
    "        pool2 = Pooling()\n",
    "        \n",
    "        #全連接層\n",
    "        fc3 = FC(\"fc3\", 16*5*5, 120) #16張5*5的feature Map, 輸出120維\n",
    "        \n",
    "        #激活函數\n",
    "        sigmoid3 = sigmoid()\n",
    "        \n",
    "        #全連接層\n",
    "        fc4 = FC(\"fc4\", 120, 84) #120維進去，84維出來\n",
    "        \n",
    "        #激活函數\n",
    "        sigmoid4 = sigmoid()\n",
    "        \n",
    "        #全連接層\n",
    "        fc5 = FC(\"fc5\", 84, 50) #84維進去，50維出來(圖片有50個label)\n",
    "        \n",
    "        loss = SoftmaxLoss()\n",
    "        self.layers = [conv1, sigmoid1, pool1, conv2, sigmoid2, pool2, fc3, sigmoid3, fc4, sigmoid4, fc5, loss]\n",
    "\n",
    "    def train(self, x_train, y_train, x_val, y_val):\n",
    "        \n",
    "        batch_size = Trainable.batch_size\n",
    "        \n",
    "        train_index = np.arange(x_train.shape[0]) #63325\n",
    "        val_index = np.arange(x_val.shape[0]) #450\n",
    "        train_num_batch = len(train_index)//batch_size\n",
    "        val_num_batch = len(val_index)//batch_size\n",
    "        # train_acc, train_acc_top5, train_loss = [],[],[]\n",
    "        # val_acc, val_acc_top5, val_loss = [],[],[]\n",
    "        acc_loss_list = []\n",
    "        for epoch in range(Trainable.epoch):\n",
    "            train_loss = 0\n",
    "            train_top1_acc = 0\n",
    "            train_top5_acc = 0\n",
    "            \n",
    "            for i in range(0, len(x_train), batch_size):\n",
    "                # get batch\n",
    "                x = x_train[i: i + batch_size]\n",
    "                y = y_train[i: i + batch_size]\n",
    "\n",
    "                loss = self.layers[-1]\n",
    "                loss.set_label(y)\n",
    "\n",
    "                for layer in self.layers:\n",
    "                    # print(x.shape)\n",
    "                    x = layer.forward(x)\n",
    "                \n",
    "                train_loss += x[0]\n",
    "                train_top1_acc += x[1]\n",
    "                train_top5_acc += x[2]\n",
    "            \n",
    "        \n",
    "                diff = 1.0\n",
    "                #反向傳播\n",
    "                for layer in reversed(self.layers):\n",
    "                    diff = layer.backward(diff)\n",
    "                Trainable.learning_rate *= (1 - Trainable.learning_rate_decay)\n",
    "                \n",
    "                \n",
    "            # 計算平均準確率及訓練損失\n",
    "            train_time = math.ceil(len(x_train)/batch_size)\n",
    "            train_top1_acc = train_top1_acc / train_time\n",
    "            train_top5_acc = train_top5_acc / train_time\n",
    "            train_loss = train_loss / train_time\n",
    "            print(f\"Epoch {epoch+1}：\\n train_top1_acc: {train_top1_acc:.4f} |train_top5_acc: {train_top5_acc:.4f} | training_loss: {train_loss:.4f}| lr: {Trainable.learning_rate}\")\n",
    "            \n",
    "                        \n",
    "            del loss.y\n",
    "            # 計算驗證準確率及損失\n",
    "            x = x_val\n",
    "            val_top1_acc = 0\n",
    "            val_top5_acc = 0\n",
    "            val_loss = 0\n",
    "            for layer_val in self.layers:\n",
    "                    x = layer_val.forward(x)\n",
    "                    \n",
    "            y_val_predict = np.argmax(x, axis=1)\n",
    "            y_val_true = np.argmax(y_val, axis=1)\n",
    "            val_top1_acc = np.sum(y_val_predict==y_val_true)/ len(y_val)\n",
    "            val_top5_acc = top5_acc(np.argmax(y_val, axis=1), x) #top5_acc(labels, prdict)\n",
    "            val_loss = CrossEntropy(x, y_val)\n",
    "                         \n",
    "            acc_loss_list.append([train_top1_acc, train_top5_acc, train_loss, val_top1_acc, val_top5_acc, val_loss])\n",
    "        \n",
    "        return acc_loss_list\n",
    "    \n",
    "    def predict(self, images, label):\n",
    "        x = images\n",
    "        for layer in self.layers:\n",
    "            x = layer.forward(x)\n",
    "            \n",
    "        y_predict = np.argmax(x, axis=1)\n",
    "        y_test_true = np.argmax(label, axis=1)\n",
    "        test_top1_acc = np.sum(y_predict==y_test_true) / len(y_predict)\n",
    "                               \n",
    "        test_top5_acc = top5_acc(np.argmax(label, axis=1), x)\n",
    "                                       \n",
    "        return test_top1_acc, test_top5_acc"
   ]
  },
  {
   "cell_type": "code",
   "execution_count": 71,
   "id": "881e279b-b541-4785-863c-11f0f409b3f0",
   "metadata": {},
   "outputs": [],
   "source": [
    "model = LeNet()\n"
   ]
  },
  {
   "cell_type": "code",
   "execution_count": 13,
   "id": "d916bc22-766e-4b34-a8a0-127c7c7f9cec",
   "metadata": {},
   "outputs": [
    {
     "name": "stdout",
     "output_type": "stream",
     "text": [
      "Epoch 1：\n",
      " train_top1_acc: 0.0191 |train_top5_acc: 0.0934 | training_loss: 157.1605| lr: 4.142117876895906e-05\n",
      "Epoch 2：\n",
      " train_top1_acc: 0.0189 |train_top5_acc: 0.0933 | training_loss: 156.8228| lr: 5.719046835366891e-06\n",
      "Epoch 3：\n",
      " train_top1_acc: 0.0190 |train_top5_acc: 0.0932 | training_loss: 156.8431| lr: 7.896322045192748e-07\n",
      "Epoch 4：\n",
      " train_top1_acc: 0.0190 |train_top5_acc: 0.0932 | training_loss: 156.8522| lr: 1.0902498901706714e-07\n",
      "Epoch 5：\n",
      " train_top1_acc: 0.0190 |train_top5_acc: 0.0932 | training_loss: 156.8546| lr: 1.505314520119914e-08\n",
      "Epoch 6：\n",
      " train_top1_acc: 0.0190 |train_top5_acc: 0.0932 | training_loss: 156.8550| lr: 2.078396728046566e-09\n",
      "Epoch 7：\n",
      " train_top1_acc: 0.0190 |train_top5_acc: 0.0932 | training_loss: 156.8551| lr: 2.869654747507891e-10\n",
      "Epoch 8：\n",
      " train_top1_acc: 0.0190 |train_top5_acc: 0.0932 | training_loss: 156.8551| lr: 3.962149410057221e-11\n",
      "Epoch 9：\n",
      " train_top1_acc: 0.0190 |train_top5_acc: 0.0932 | training_loss: 156.8551| lr: 5.470563300776853e-12\n",
      "Epoch 10：\n",
      " train_top1_acc: 0.0190 |train_top5_acc: 0.0932 | training_loss: 156.8552| lr: 7.553239348279523e-13\n",
      "CPU times: user 2h 13min 54s, sys: 2h 43min 20s, total: 4h 57min 14s\n",
      "Wall time: 39min 16s\n"
     ]
    }
   ],
   "source": [
    "%%time\n",
    "model = LeNet()\n",
    "train_result = model.train(x_train, y_train,x_val, y_val)"
   ]
  },
  {
   "cell_type": "code",
   "execution_count": 73,
   "id": "822c92e2-1731-4592-9737-d5031852de5b",
   "metadata": {},
   "outputs": [
    {
     "name": "stdout",
     "output_type": "stream",
     "text": [
      "test_top1_acc: 0.02 | test_top5_acc: 0.1\n"
     ]
    }
   ],
   "source": [
    "test_result = model.predict(x_test, y_test)\n",
    "print(f\"test_top1_acc: {test_result[0]} | test_top5_acc: {test_result[1]}\")"
   ]
  },
  {
   "cell_type": "code",
   "execution_count": 15,
   "id": "59270067-402e-4465-8dcf-3b63737c7637",
   "metadata": {},
   "outputs": [],
   "source": [
    "train_result = np.array(train_result) #轉為numpy，繪圖時可以取值"
   ]
  },
  {
   "cell_type": "code",
   "execution_count": 77,
   "id": "423df75d-d207-49cb-b601-27ccfabd44a0",
   "metadata": {},
   "outputs": [
    {
     "data": {
      "image/png": "[encoded data removed]",
      "text/plain": [
       "<Figure size 432x288 with 1 Axes>"
      ]
     },
     "metadata": {
      "needs_background": "light"
     },
     "output_type": "display_data"
    }
   ],
   "source": [
    "import matplotlib.pyplot as plt\n",
    "plt.plot(train_result[:, 2], label=\"Training\")\n",
    "plt.plot(train_result[:, 5]*32, label=\"Validation\")\n",
    "plt.xlabel(\"Epoch\")\n",
    "plt.ylabel(\"Loss\")\n",
    "plt.title(\"Training/Validation loss\")\n",
    "plt.legend()\n",
    "plt.savefig('lenet_loss.png')\n",
    "plt.show()"
   ]
  },
  {
   "cell_type": "code",
   "execution_count": 24,
   "id": "87ba1d7a-b832-4c64-b235-b3b25df34ed8",
   "metadata": {},
   "outputs": [
    {
     "data": {
      "image/png": "[encoded data removed]",
      "text/plain": [
       "<Figure size 432x288 with 1 Axes>"
      ]
     },
     "metadata": {
      "needs_background": "light"
     },
     "output_type": "display_data"
    }
   ],
   "source": [
    "import matplotlib.pyplot as plt\n",
    "plt.plot(train_result[:, 0],label=\"Training\")\n",
    "plt.plot(train_result[:, 3],label=\"Validation\")\n",
    "plt.xlabel(\"Epoch\")\n",
    "plt.ylabel(\"Accuracy\")\n",
    "plt.title(\"Training/Validation Top-1 Accuracy\")\n",
    "plt.legend()\n",
    "plt.savefig('lenet_top1acc.png')\n",
    "plt.show()"
   ]
  },
  {
   "cell_type": "code",
   "execution_count": 26,
   "id": "e4ece95d-d062-45c7-a478-141680558bd5",
   "metadata": {},
   "outputs": [
    {
     "data": {
      "image/png": "[encoded data removed]",
      "text/plain": [
       "<Figure size 432x288 with 1 Axes>"
      ]
     },
     "metadata": {
      "needs_background": "light"
     },
     "output_type": "display_data"
    }
   ],
   "source": [
    "import matplotlib.pyplot as plt\n",
    "plt.plot(train_result[:, 1], label=\"Training\")\n",
    "plt.plot(train_result[:, 4], label=\"Validation\")\n",
    "plt.xlabel(\"Epoch\")\n",
    "plt.ylabel(\"Accuracy\")\n",
    "plt.title(\"Training/Validation Top-5 Accuracy\")\n",
    "plt.legend()\n",
    "plt.savefig('lenet_top5acc.png')\n",
    "plt.show()"
   ]
  }
 ],
 "metadata": {
  "kernelspec": {
   "display_name": "Python 3",
   "language": "python",
   "name": "python3"
  },
  "language_info": {
   "codemirror_mode": {
    "name": "ipython",
    "version": 3
   },
   "file_extension": ".py",
   "mimetype": "text/x-python",
   "name": "python",
   "nbconvert_exporter": "python",
   "pygments_lexer": "ipython3",
   "version": "3.6.9"
  }
 },
 "nbformat": 4,
 "nbformat_minor": 5
}
