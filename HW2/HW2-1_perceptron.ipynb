{
 "cells": [
  {
   "cell_type": "markdown",
   "id": "4b8d64eb-0677-443f-8924-883493d15f8d",
   "metadata": {},
   "source": [
    "## 載入所需套件\n"
   ]
  },
  {
   "cell_type": "code",
   "execution_count": 2,
   "id": "2530b884-c440-4e9d-bfe4-113b3fb427d6",
   "metadata": {},
   "outputs": [],
   "source": [
    "import numpy as np\n",
    "from sklearn.metrics import accuracy_score\n",
    "import math"
   ]
  },
  {
   "cell_type": "markdown",
   "id": "80fa2d26-bc7e-42a4-8a8a-c8fa60ea845c",
   "metadata": {},
   "source": [
    "## 載入特徵"
   ]
  },
  {
   "cell_type": "code",
   "execution_count": 3,
   "id": "084ae4c4-3678-447f-8ccf-a30ec55b1694",
   "metadata": {},
   "outputs": [],
   "source": [
    "#載入圖片特徵\n",
    "#於image_feature.ipynb中實作並儲存\n",
    "train_features = np.load('feature/train_features.npy', allow_pickle=True)\n",
    "train_labels = np.load('feature/train_labels.npy', allow_pickle=True)\n",
    "val_features = np.load('feature/val_features.npy', allow_pickle=True)\n",
    "val_labels = np.load('feature/val_labels.npy', allow_pickle=True)\n",
    "test_features = np.load('feature/test_features.npy', allow_pickle=True)\n",
    "test_labels = np.load('feature/test_labels.npy', allow_pickle=True)"
   ]
  },
  {
   "cell_type": "code",
   "execution_count": 4,
   "id": "60888189-08b4-48f7-bc6d-fa12bf1f7722",
   "metadata": {},
   "outputs": [
    {
     "name": "stdout",
     "output_type": "stream",
     "text": [
      "object\n",
      "<U2\n"
     ]
    }
   ],
   "source": [
    "print(train_features.dtype)\n",
    "print(train_labels.dtype)"
   ]
  },
  {
   "cell_type": "markdown",
   "id": "3fd13260-ba6a-43e1-8fd7-01f852ae457d",
   "metadata": {},
   "source": [
    "## 資料處理"
   ]
  },
  {
   "cell_type": "code",
   "execution_count": 5,
   "id": "429bba49-9ab7-4208-a1a2-8589f9071080",
   "metadata": {},
   "outputs": [],
   "source": [
    "def one_hot_encoding(y):\n",
    "    y=y.astype(int) #將label的0~49轉成數字\n",
    "    num_classes = 50 #共50個label\n",
    "    y_onehot = np.zeros((len(y), num_classes))\n",
    "    y_onehot[np.arange(len(y)), y] = 1 #轉成one hot\n",
    "    return y_onehot\n",
    "\n",
    "def union_shuffle(X, y):\n",
    "    X=X.astype(float) #features的原始讀取到的資料型態是object，轉成float\n",
    "    index = np.arange(X.shape[0])\n",
    "    np.random.shuffle(index) #將資料排序打亂\n",
    "    return X[index], y[index]\n"
   ]
  },
  {
   "cell_type": "code",
   "execution_count": 6,
   "id": "c4f3d25b-dade-47d1-9ec3-0914314b2520",
   "metadata": {},
   "outputs": [],
   "source": [
    "# One-hot encode labels\n",
    "y_train = one_hot_encoding(train_labels)\n",
    "y_valid = one_hot_encoding(val_labels)\n",
    "y_test = one_hot_encoding(test_labels)\n",
    "\n",
    "# Shuffle data\n",
    "x_train, y_train = union_shuffle(train_features, y_train)\n",
    "x_valid, y_valid = union_shuffle(val_features, y_valid)\n",
    "x_test, y_test = union_shuffle(test_features, y_test)"
   ]
  },
  {
   "cell_type": "code",
   "execution_count": 7,
   "id": "7ce50587-addb-4f1b-8879-2d221451bbc4",
   "metadata": {},
   "outputs": [
    {
     "name": "stdout",
     "output_type": "stream",
     "text": [
      "(63325, 2916)\n",
      "(63325, 50)\n",
      "float64\n",
      "float64\n"
     ]
    }
   ],
   "source": [
    "print(x_train.shape)\n",
    "print(y_train.shape)\n",
    "print(x_train.dtype)\n",
    "print(y_train.dtype)"
   ]
  },
  {
   "cell_type": "markdown",
   "id": "e9ee4470-8b66-4d55-a2b5-07092b0fe901",
   "metadata": {},
   "source": [
    "## Model\n",
    "* reference\n",
    "#### youtube合輯 - perceptron運作過程含程式教學 \n",
    "###### https://youtube.com/playlist?list=PLqXS1b2lRpYTpUIEu3oxfhhTuBXmMPppA\n",
    "#### ChatGPT"
   ]
  },
  {
   "cell_type": "markdown",
   "id": "07ba36f5-73db-41ca-bc13-52093e168cf3",
   "metadata": {},
   "source": [
    "* Hyperparameter"
   ]
  },
  {
   "cell_type": "code",
   "execution_count": 8,
   "id": "0644948d-4f33-4d36-a1ef-5389f9338e4c",
   "metadata": {},
   "outputs": [],
   "source": [
    "input_size = 2916\n",
    "hidden_size = 50\n",
    "output_size = 50\n",
    "batch_size = 32\n",
    "epochs = 50\n",
    "learning_rate = 1e-6"
   ]
  },
  {
   "cell_type": "markdown",
   "id": "59dffba8-22df-4ff0-aa95-0d3e2d68afe2",
   "metadata": {},
   "source": [
    "* 評估指標"
   ]
  },
  {
   "cell_type": "code",
   "execution_count": 9,
   "id": "dd30288f-76b9-458e-aa47-af2354448ce2",
   "metadata": {},
   "outputs": [],
   "source": [
    "def top5_acc(labels, probs):\n",
    "    correct = 0\n",
    "    for i, p in enumerate(probs):\n",
    "        top5_y = np.argsort(p)[-5:]\n",
    "        if labels[i] in top5_y:\n",
    "            correct += 1\n",
    "    \n",
    "    return correct / len(labels)"
   ]
  },
  {
   "cell_type": "markdown",
   "id": "364f178e-b3c4-4095-81ac-72e78cf81b98",
   "metadata": {},
   "source": [
    "* 激活函數"
   ]
  },
  {
   "cell_type": "code",
   "execution_count": 10,
   "id": "6ac4de0e-d6d7-4253-ae7c-732878799a21",
   "metadata": {},
   "outputs": [],
   "source": [
    "class relu():\n",
    "    def forward(self, x):\n",
    "        self.x = x\n",
    "        return np.maximum(0, self.x)\n",
    "\n",
    "    def backward(self, delta, weight):\n",
    "        grad = np.dot(delta, weight)\n",
    "        grad[self.x <= 0] = 0\n",
    "        return grad\n",
    "\n",
    "class softmax():\n",
    "    def forward(self, x):\n",
    "        self.x = np.exp(x)\n",
    "        return self.x / np.sum(self.x, axis=1, keepdims=True)\n",
    "\n",
    "    def backward(self, y_pred, y_true):\n",
    "        return y_pred - y_true #計算輸出與實際標籤之間的誤差"
   ]
  },
  {
   "cell_type": "markdown",
   "id": "8d4b4f76-5dd7-4a53-ae1b-b63d3ddd5872",
   "metadata": {},
   "source": [
    "* Loss Function"
   ]
  },
  {
   "cell_type": "code",
   "execution_count": 11,
   "id": "caebce56-bc9f-4914-bf07-ac2c0fe8ff66",
   "metadata": {},
   "outputs": [],
   "source": [
    "def CrossEntropy(probs, Y):\n",
    "    \"\"\"\n",
    "    probs: 模型預測出的每個類別的機率，形狀為 (m, n_classes)\n",
    "    Y: 真實標籤，形狀為 (m, n_classes)，其中每一行為 one-hot 編碼\n",
    "\n",
    "    Returns:\n",
    "    loss: 交叉熵損失\n",
    "    \"\"\"\n",
    "    loss = -np.sum(Y * np.log(probs + 1e-12)) #為了避免出現機率為 0 導致的 log(0) 錯誤，將 probs 加上一個很小的數值 1e-12。\n",
    "    return loss\n"
   ]
  },
  {
   "cell_type": "markdown",
   "id": "9865ad60-163a-48eb-9a2d-3a6f38244813",
   "metadata": {},
   "source": [
    "* Two Layer Perceptron"
   ]
  },
  {
   "cell_type": "code",
   "execution_count": 12,
   "id": "c2eef7d3-dab6-445d-ac10-1a335af1465b",
   "metadata": {},
   "outputs": [],
   "source": [
    "class TwoLayerPerceptron:\n",
    "    def __init__(self, input_size, hidden_size, output_size):\n",
    "        self.relu = relu()\n",
    "        self.softmax = softmax()\n",
    "        #第一層 weight與bias\n",
    "        self.w1 = np.random.randn(input_size, hidden_size)\n",
    "        self.b1 = np.zeros(hidden_size)\n",
    "        #第二層 weight與bias \n",
    "        self.w2 = np.random.randn(hidden_size, output_size)\n",
    "        self.b2 = np.zeros(output_size)\n",
    "        \n",
    "    def forward(self, x):\n",
    "        # 第一層: ReLU激活函數\n",
    "        self.x1 = np.dot(x, self.w1) + self.b1 #第一層的輸出\n",
    "        self.a1 = self.relu.forward(self.x1) #第一層的輸出經過ReLU\n",
    "        \n",
    "        # 第二層: softmax計算各類別機率\n",
    "        self.x2 = np.dot(self.a1, self.w2) + self.b2 #第二層的輸出\n",
    "        self.output = self.softmax.forward(self.x2) #第二層的輸出經過softmax\n",
    "        return self.output\n",
    "        \n",
    "    def backward(self, x, y, learning_rate):\n",
    "        # 第二層\n",
    "        error2 = self.softmax.backward(self.output, y) #計算輸出與實際標籤之間的誤差\n",
    "        self.dw2 = np.dot(self.a1.T, error2) \n",
    "        self.db2 = np.sum(error2, axis=0)\n",
    "        # 第一層\n",
    "        error1 = self.relu.backward(error2, self.w2.T) \n",
    "        self.dw1 = np.dot(x.T, error1)\n",
    "        self.db1 = np.sum(error1, axis=0)\n",
    "        # 更新weight與bias\n",
    "        self.w1 -= learning_rate * self.dw1\n",
    "        self.w2 -= learning_rate * self.dw2\n",
    "        self.b1 -= learning_rate * self.db1\n",
    "        self.b2 -= learning_rate * self.db2\n",
    "        \n",
    "    def train(self, X_train, Y_train, X_val, Y_val, batch_size, epochs, learning_rate):\n",
    "        acc_loss_list = []\n",
    "        for epoch in range(epochs):\n",
    "            train_top1_acc = 0\n",
    "            train_top5_acc = 0\n",
    "            train_loss = 0\n",
    "            for i in range(0, len(X_train), batch_size):\n",
    "                # get batch\n",
    "                X_batch = X_train[i: i + batch_size]\n",
    "                Y_batch = Y_train[i: i + batch_size]\n",
    "                # forward pass\n",
    "                probs = self.forward(X_batch)\n",
    "                self.backward(X_batch, Y_batch, learning_rate)\n",
    "                # Evaluate the accuracy and loss\n",
    "                train_top1_acc += accuracy_score(np.argmax(Y_batch, axis=1), np.argmax(probs, axis=1))\n",
    "                train_top5_acc += top5_acc(np.argmax(Y_batch, axis=1), probs)\n",
    "                train_loss += CrossEntropy(probs, Y_batch)\n",
    "            \n",
    "            # 計算平均準確率及訓練損失\n",
    "            train_time = math.ceil(len(X_train)/batch_size)\n",
    "            train_top1_acc = train_top1_acc / train_time\n",
    "            train_top5_acc = train_top5_acc / train_time\n",
    "            train_loss = train_loss / train_time\n",
    "            # 計算驗證準確率及損失\n",
    "            val_probs = self.forward(X_val)\n",
    "            val_top1_acc = accuracy_score(np.argmax(Y_val, axis=1), np.argmax(val_probs, axis=1))\n",
    "            val_top5_acc = top5_acc(np.argmax(Y_val, axis=1), val_probs)\n",
    "            val_loss = CrossEntropy(val_probs, Y_val)\n",
    "            \n",
    "            acc_loss_list.append([train_top1_acc, train_top5_acc, train_loss, val_top1_acc, val_top5_acc, val_loss])\n",
    "          \n",
    "            print(f\"Epoch {epoch+1}：\\ntrain_top1_acc: {train_top1_acc:.4f} | training_loss: {train_loss:.4f} | val_top1_acc: {val_top1_acc:.4f} | val_loss: {val_loss:.4f}\")\n",
    "            \n",
    "        return acc_loss_list\n",
    "    \n",
    "    def predict(self, X_test, Y_test):\n",
    "        test_predict = self.forward(X_test)\n",
    "        test_top1_acc = accuracy_score(np.argmax(Y_test, axis=1), np.argmax(test_predict, axis=1))\n",
    "        test_top5_acc = top5_acc(np.argmax(Y_test, axis=1), test_predict)\n",
    "        print(f\"Test：\\n test_top1_acc: {test_top1_acc:.4f} | test_top5_acc: {test_top5_acc:.4f}\")\n",
    "        return test_top1_acc, test_top5_acc\n",
    "    \n",
    "    "
   ]
  },
  {
   "cell_type": "code",
   "execution_count": 13,
   "id": "3e0aa790-c52b-46db-bf45-68eb3f819521",
   "metadata": {},
   "outputs": [
    {
     "name": "stdout",
     "output_type": "stream",
     "text": [
      "CPU times: user 7.57 ms, sys: 0 ns, total: 7.57 ms\n",
      "Wall time: 6.29 ms\n"
     ]
    }
   ],
   "source": [
    "%%time\n",
    "model = TwoLayerPerceptron(input_size, hidden_size, output_size)"
   ]
  },
  {
   "cell_type": "code",
   "execution_count": 14,
   "id": "d902c817-9778-453d-94c5-4d92488e8e41",
   "metadata": {},
   "outputs": [
    {
     "name": "stdout",
     "output_type": "stream",
     "text": [
      "Epoch 1：\n",
      "train_top1_acc: 0.0193 | training_loss: 813.0067 | val_top1_acc: 0.0222 | val_loss: 11037.4663\n",
      "Epoch 2：\n",
      "train_top1_acc: 0.0194 | training_loss: 782.0741 | val_top1_acc: 0.0222 | val_loss: 10580.3097\n",
      "Epoch 3：\n",
      "train_top1_acc: 0.0189 | training_loss: 756.3692 | val_top1_acc: 0.0289 | val_loss: 10242.2100\n",
      "Epoch 4：\n",
      "train_top1_acc: 0.0191 | training_loss: 735.8896 | val_top1_acc: 0.0311 | val_loss: 9985.6792\n",
      "Epoch 5：\n",
      "train_top1_acc: 0.0195 | training_loss: 718.0055 | val_top1_acc: 0.0289 | val_loss: 9759.6128\n",
      "Epoch 6：\n",
      "train_top1_acc: 0.0200 | training_loss: 700.8471 | val_top1_acc: 0.0289 | val_loss: 9531.6016\n",
      "Epoch 7：\n",
      "train_top1_acc: 0.0201 | training_loss: 683.5159 | val_top1_acc: 0.0333 | val_loss: 9297.4344\n",
      "Epoch 8：\n",
      "train_top1_acc: 0.0205 | training_loss: 665.5006 | val_top1_acc: 0.0311 | val_loss: 9050.4849\n",
      "Epoch 9：\n",
      "train_top1_acc: 0.0207 | training_loss: 646.4323 | val_top1_acc: 0.0289 | val_loss: 8786.6475\n",
      "Epoch 10：\n",
      "train_top1_acc: 0.0210 | training_loss: 626.0199 | val_top1_acc: 0.0289 | val_loss: 8507.4115\n",
      "Epoch 11：\n",
      "train_top1_acc: 0.0211 | training_loss: 604.2510 | val_top1_acc: 0.0267 | val_loss: 8203.7836\n",
      "Epoch 12：\n",
      "train_top1_acc: 0.0210 | training_loss: 581.1851 | val_top1_acc: 0.0267 | val_loss: 7881.9377\n",
      "Epoch 13：\n",
      "train_top1_acc: 0.0210 | training_loss: 557.0934 | val_top1_acc: 0.0200 | val_loss: 7540.6853\n",
      "Epoch 14：\n",
      "train_top1_acc: 0.0213 | training_loss: 532.3016 | val_top1_acc: 0.0222 | val_loss: 7191.4922\n",
      "Epoch 15：\n",
      "train_top1_acc: 0.0213 | training_loss: 507.0696 | val_top1_acc: 0.0222 | val_loss: 6841.5715\n",
      "Epoch 16：\n",
      "train_top1_acc: 0.0213 | training_loss: 481.9465 | val_top1_acc: 0.0244 | val_loss: 6501.2178\n",
      "Epoch 17：\n",
      "train_top1_acc: 0.0215 | training_loss: 457.4518 | val_top1_acc: 0.0222 | val_loss: 6167.7360\n",
      "Epoch 18：\n",
      "train_top1_acc: 0.0216 | training_loss: 433.8890 | val_top1_acc: 0.0200 | val_loss: 5844.3480\n",
      "Epoch 19：\n",
      "train_top1_acc: 0.0215 | training_loss: 411.6139 | val_top1_acc: 0.0222 | val_loss: 5540.2615\n",
      "Epoch 20：\n",
      "train_top1_acc: 0.0215 | training_loss: 390.8754 | val_top1_acc: 0.0267 | val_loss: 5256.7934\n",
      "Epoch 21：\n",
      "train_top1_acc: 0.0214 | training_loss: 371.7388 | val_top1_acc: 0.0289 | val_loss: 5000.5506\n",
      "Epoch 22：\n",
      "train_top1_acc: 0.0212 | training_loss: 354.2399 | val_top1_acc: 0.0289 | val_loss: 4764.7313\n",
      "Epoch 23：\n",
      "train_top1_acc: 0.0213 | training_loss: 338.3525 | val_top1_acc: 0.0311 | val_loss: 4551.2227\n",
      "Epoch 24：\n",
      "train_top1_acc: 0.0213 | training_loss: 323.9751 | val_top1_acc: 0.0356 | val_loss: 4356.9808\n",
      "Epoch 25：\n",
      "train_top1_acc: 0.0209 | training_loss: 310.9581 | val_top1_acc: 0.0400 | val_loss: 4182.6054\n",
      "Epoch 26：\n",
      "train_top1_acc: 0.0208 | training_loss: 299.1925 | val_top1_acc: 0.0356 | val_loss: 4023.8102\n",
      "Epoch 27：\n",
      "train_top1_acc: 0.0211 | training_loss: 288.5404 | val_top1_acc: 0.0333 | val_loss: 3882.5741\n",
      "Epoch 28：\n",
      "train_top1_acc: 0.0212 | training_loss: 278.8935 | val_top1_acc: 0.0356 | val_loss: 3755.3022\n",
      "Epoch 29：\n",
      "train_top1_acc: 0.0213 | training_loss: 270.1402 | val_top1_acc: 0.0378 | val_loss: 3638.3623\n",
      "Epoch 30：\n",
      "train_top1_acc: 0.0207 | training_loss: 262.1772 | val_top1_acc: 0.0422 | val_loss: 3530.7370\n",
      "Epoch 31：\n",
      "train_top1_acc: 0.0201 | training_loss: 254.9121 | val_top1_acc: 0.0422 | val_loss: 3432.3096\n",
      "Epoch 32：\n",
      "train_top1_acc: 0.0203 | training_loss: 248.2554 | val_top1_acc: 0.0400 | val_loss: 3342.5738\n",
      "Epoch 33：\n",
      "train_top1_acc: 0.0203 | training_loss: 242.1506 | val_top1_acc: 0.0378 | val_loss: 3260.5426\n",
      "Epoch 34：\n",
      "train_top1_acc: 0.0203 | training_loss: 236.5430 | val_top1_acc: 0.0333 | val_loss: 3185.7356\n",
      "Epoch 35：\n",
      "train_top1_acc: 0.0205 | training_loss: 231.3730 | val_top1_acc: 0.0333 | val_loss: 3117.1215\n",
      "Epoch 36：\n",
      "train_top1_acc: 0.0202 | training_loss: 226.6071 | val_top1_acc: 0.0311 | val_loss: 3053.5673\n",
      "Epoch 37：\n",
      "train_top1_acc: 0.0198 | training_loss: 222.2006 | val_top1_acc: 0.0244 | val_loss: 2994.3372\n",
      "Epoch 38：\n",
      "train_top1_acc: 0.0200 | training_loss: 218.1193 | val_top1_acc: 0.0222 | val_loss: 2939.5525\n",
      "Epoch 39：\n",
      "train_top1_acc: 0.0204 | training_loss: 214.3283 | val_top1_acc: 0.0200 | val_loss: 2888.9253\n",
      "Epoch 40：\n",
      "train_top1_acc: 0.0204 | training_loss: 210.8010 | val_top1_acc: 0.0200 | val_loss: 2841.7030\n",
      "Epoch 41：\n",
      "train_top1_acc: 0.0205 | training_loss: 207.5141 | val_top1_acc: 0.0200 | val_loss: 2797.7153\n",
      "Epoch 42：\n",
      "train_top1_acc: 0.0204 | training_loss: 204.4428 | val_top1_acc: 0.0200 | val_loss: 2756.9068\n",
      "Epoch 43：\n",
      "train_top1_acc: 0.0204 | training_loss: 201.5672 | val_top1_acc: 0.0200 | val_loss: 2718.1228\n",
      "Epoch 44：\n",
      "train_top1_acc: 0.0205 | training_loss: 198.8705 | val_top1_acc: 0.0200 | val_loss: 2681.7187\n",
      "Epoch 45：\n",
      "train_top1_acc: 0.0208 | training_loss: 196.3405 | val_top1_acc: 0.0200 | val_loss: 2647.9188\n",
      "Epoch 46：\n",
      "train_top1_acc: 0.0209 | training_loss: 193.9620 | val_top1_acc: 0.0200 | val_loss: 2616.2389\n",
      "Epoch 47：\n",
      "train_top1_acc: 0.0210 | training_loss: 191.7260 | val_top1_acc: 0.0178 | val_loss: 2586.5955\n",
      "Epoch 48：\n",
      "train_top1_acc: 0.0212 | training_loss: 189.6174 | val_top1_acc: 0.0156 | val_loss: 2558.4324\n",
      "Epoch 49：\n",
      "train_top1_acc: 0.0210 | training_loss: 187.6273 | val_top1_acc: 0.0178 | val_loss: 2532.1332\n",
      "Epoch 50：\n",
      "train_top1_acc: 0.0211 | training_loss: 185.7438 | val_top1_acc: 0.0178 | val_loss: 2507.6187\n",
      "CPU times: user 36min 54s, sys: 41min 12s, total: 1h 18min 7s\n",
      "Wall time: 9min 37s\n"
     ]
    }
   ],
   "source": [
    "%%time\n",
    "training_result = model.train(x_train,y_train,x_valid,y_valid, batch_size, epochs, learning_rate)"
   ]
  },
  {
   "cell_type": "markdown",
   "id": "158e1e66-4934-4f4b-818a-f4a53b8d15d8",
   "metadata": {},
   "source": [
    "## Result"
   ]
  },
  {
   "cell_type": "markdown",
   "id": "ff0d6020-0dd3-4901-b2db-261bb6e86766",
   "metadata": {},
   "source": [
    "* test的accuracy和loss"
   ]
  },
  {
   "cell_type": "code",
   "execution_count": 15,
   "id": "d53ab839-9e0e-4469-9efd-80077177d34d",
   "metadata": {},
   "outputs": [
    {
     "name": "stdout",
     "output_type": "stream",
     "text": [
      "Test：\n",
      " test_top1_acc: 0.0311 | test_top5_acc: 0.1422\n"
     ]
    }
   ],
   "source": [
    "testing_result = model.predict(x_test, y_test)"
   ]
  },
  {
   "cell_type": "markdown",
   "id": "c6fbdf84-ce91-4861-94f7-721acc7aa449",
   "metadata": {},
   "source": [
    "* 繪製Loss和Accuracy圖"
   ]
  },
  {
   "cell_type": "code",
   "execution_count": 16,
   "id": "36a69457-71f9-40d3-98d9-92534d9fc7e2",
   "metadata": {},
   "outputs": [],
   "source": [
    "training_result = np.array(training_result)"
   ]
  },
  {
   "cell_type": "code",
   "execution_count": 17,
   "id": "7560cadb-6508-434d-bc23-7434cb846f91",
   "metadata": {},
   "outputs": [
    {
     "data": {
      "image/png": "[encoded data removed]",
      "text/plain": [
       "<Figure size 432x288 with 1 Axes>"
      ]
     },
     "metadata": {
      "needs_background": "light"
     },
     "output_type": "display_data"
    }
   ],
   "source": [
    "import matplotlib.pyplot as plt\n",
    "plt.plot(training_result[:, 2], label=\"Training\")\n",
    "plt.plot(training_result[:, 5], label=\"Validation\")\n",
    "plt.xlabel(\"Epoch\")\n",
    "plt.ylabel(\"Loss\")\n",
    "plt.title(\"Training/Validation loss\")\n",
    "plt.legend()\n",
    "plt.savefig('Loss.png')   \n",
    "plt.show()"
   ]
  },
  {
   "cell_type": "code",
   "execution_count": 18,
   "id": "2999c107-74d3-459c-971c-b878cf806deb",
   "metadata": {},
   "outputs": [
    {
     "data": {
      "image/png": "[encoded data removed]",
      "text/plain": [
       "<Figure size 432x288 with 1 Axes>"
      ]
     },
     "metadata": {
      "needs_background": "light"
     },
     "output_type": "display_data"
    }
   ],
   "source": [
    "import matplotlib.pyplot as plt\n",
    "plt.plot(training_result[:, 0], label=\"Training\")\n",
    "plt.plot(training_result[:, 3], label=\"Validation\")\n",
    "plt.xlabel(\"Epoch\")\n",
    "plt.ylabel(\"Accuracy\")\n",
    "plt.title(\"Training/Validation top-1 accuracy\")\n",
    "plt.legend()\n",
    "plt.savefig('Top1_acc.png')   \n",
    "plt.show()"
   ]
  },
  {
   "cell_type": "code",
   "execution_count": 19,
   "id": "bbec7aa1-c493-450f-abb7-2216aad154eb",
   "metadata": {},
   "outputs": [
    {
     "data": {
      "image/png": "[encoded data removed]",
      "text/plain": [
       "<Figure size 432x288 with 1 Axes>"
      ]
     },
     "metadata": {
      "needs_background": "light"
     },
     "output_type": "display_data"
    }
   ],
   "source": [
    "import matplotlib.pyplot as plt\n",
    "plt.plot(training_result[:, 1], label=\"Training\")\n",
    "plt.plot(training_result[:, 4], label=\"Validation\")\n",
    "plt.xlabel(\"Epoch\")\n",
    "plt.ylabel(\"Accuracy\")\n",
    "plt.title(\"Training/Validation top-5 accuracy\")\n",
    "plt.legend()\n",
    "plt.savefig('Top5_acc.png')\n",
    "plt.show()"
   ]
  }
 ],
 "metadata": {
  "kernelspec": {
   "display_name": "Python 3",
   "language": "python",
   "name": "python3"
  },
  "language_info": {
   "codemirror_mode": {
    "name": "ipython",
    "version": 3
   },
   "file_extension": ".py",
   "mimetype": "text/x-python",
   "name": "python",
   "nbconvert_exporter": "python",
   "pygments_lexer": "ipython3",
   "version": "3.6.9"
  }
 },
 "nbformat": 4,
 "nbformat_minor": 5
}
