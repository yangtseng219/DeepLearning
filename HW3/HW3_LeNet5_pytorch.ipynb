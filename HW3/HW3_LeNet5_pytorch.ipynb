{
 "cells": [
  {
   "cell_type": "code",
   "execution_count": 1,
   "id": "f8507f3d-a278-4c07-a36d-b48e48e7febf",
   "metadata": {},
   "outputs": [],
   "source": [
    "import numpy as np\n",
    "from sklearn.metrics import accuracy_score\n",
    "from tqdm.notebook import tqdm\n",
    "import random\n",
    "import math\n",
    "import os\n",
    "import torch\n",
    "import torch.nn as nn\n",
    "import torch.nn.functional as F\n",
    "import torch.optim as optim\n",
    "import matplotlib.pyplot as plt\n",
    "from torch.utils.data import DataLoader, TensorDataset\n",
    "import time\n"
   ]
  },
  {
   "cell_type": "code",
   "execution_count": 2,
   "id": "8367ee91-f32d-4a03-a429-aa3ebee4bb8a",
   "metadata": {},
   "outputs": [],
   "source": [
    "#載入圖片特徵\n",
    "#於image_feature.ipynb中實作並儲存\n",
    "train_features = np.load('feature/train_features_lenet.npy', allow_pickle=True)\n",
    "train_labels = np.load('feature/train_labels.npy', allow_pickle=True)\n",
    "val_features = np.load('feature/val_features_lenet.npy', allow_pickle=True)\n",
    "val_labels = np.load('feature/val_labels.npy', allow_pickle=True)\n",
    "test_features = np.load('feature/test_features_lenet.npy', allow_pickle=True)\n",
    "test_labels = np.load('feature/test_labels.npy', allow_pickle=True)"
   ]
  },
  {
   "cell_type": "code",
   "execution_count": 3,
   "id": "d5cfa0ce-48f6-4abb-9e69-6b0e554d4d09",
   "metadata": {},
   "outputs": [],
   "source": [
    "def one_hot_encoding(y):\n",
    "    y=y.astype(int) #將label的0~49轉成數字\n",
    "    num_classes = 50 #共50個label\n",
    "    y_onehot = np.zeros((len(y), num_classes))\n",
    "    y_onehot[np.arange(len(y)), y] = 1.0 #轉成one hot\n",
    "    return y_onehot\n",
    "\n",
    "def union_shuffle(X, y):\n",
    "    X=X.astype(float) #features的原始讀取到的資料型態是object，轉成float\n",
    "    index = np.arange(X.shape[0])\n",
    "    np.random.shuffle(index) #將資料排序打亂\n",
    "    return X[index], y[index]\n"
   ]
  },
  {
   "cell_type": "code",
   "execution_count": 4,
   "id": "72f2b8a4-6d00-48a7-82ff-0d694efcab88",
   "metadata": {},
   "outputs": [],
   "source": [
    "# One-hot encode labels\n",
    "y_train = one_hot_encoding(train_labels)\n",
    "y_valid = one_hot_encoding(val_labels)\n",
    "y_test = one_hot_encoding(test_labels)\n",
    "\n",
    "# Shuffle data\n",
    "x_train, y_train = union_shuffle(train_features, y_train)\n",
    "x_val, y_val = union_shuffle(val_features, y_valid)\n",
    "x_test, y_test = union_shuffle(test_features, y_test)"
   ]
  },
  {
   "cell_type": "code",
   "execution_count": 5,
   "id": "5bfb87a6-d7d3-4841-84fe-e905b69dd6ec",
   "metadata": {},
   "outputs": [
    {
     "name": "stdout",
     "output_type": "stream",
     "text": [
      "(63325, 32, 32, 1)\n",
      "(63325, 50)\n",
      "(450, 32, 32, 1)\n",
      "(450, 50)\n",
      "[0. 0. 0. 0. 0. 0. 0. 0. 0. 0. 0. 0. 0. 0. 0. 0. 0. 0. 0. 0. 0. 0. 0. 0.\n",
      " 0. 0. 0. 0. 0. 0. 0. 0. 0. 0. 0. 0. 0. 0. 0. 0. 0. 0. 0. 0. 0. 0. 1. 0.\n",
      " 0. 0.]\n"
     ]
    }
   ],
   "source": [
    "print(x_train.shape)\n",
    "print(y_train.shape)\n",
    "print(x_val.shape)\n",
    "print(y_val.shape)\n",
    "print(y_train[1])"
   ]
  },
  {
   "cell_type": "markdown",
   "id": "05277cff-2933-4a60-9d7e-f28289d5875e",
   "metadata": {},
   "source": [
    "### Lenet5 "
   ]
  },
  {
   "cell_type": "code",
   "execution_count": 6,
   "id": "25a18b81-67a1-425e-bb67-a0ab65e1a9c0",
   "metadata": {},
   "outputs": [],
   "source": [
    "# transpose\n",
    "x_train = np.transpose(x_train, (0, 3, 1, 2))\n",
    "x_val = np.transpose(x_val, (0, 3, 1, 2))\n",
    "x_test = np.transpose(x_test, (0, 3, 1, 2))"
   ]
  },
  {
   "cell_type": "code",
   "execution_count": 7,
   "id": "3c69c418-07e3-4e96-bbcb-67b2b0aa468e",
   "metadata": {},
   "outputs": [
    {
     "name": "stdout",
     "output_type": "stream",
     "text": [
      "[[[0.14901961 0.14901961 0.14901961 ... 0.14901961 0.14509805 0.10196079]\n",
      "  [0.15686275 0.20784314 0.19607843 ... 0.18039216 0.16078432 0.03137255]\n",
      "  [0.15686275 0.25098041 0.36470589 ... 0.58039218 0.10980392 0.03137255]\n",
      "  ...\n",
      "  [0.14901961 0.24705882 0.98431373 ... 0.90980393 0.12156863 0.03137255]\n",
      "  [0.15686275 0.14901961 0.10196079 ... 0.09803922 0.10588235 0.02352941]\n",
      "  [0.09803922 0.02745098 0.02745098 ... 0.02745098 0.02745098 0.01960784]]]\n",
      "(63325, 1, 32, 32)\n"
     ]
    }
   ],
   "source": [
    "print(x_train[0])\n",
    "print(x_train.shape)"
   ]
  },
  {
   "cell_type": "code",
   "execution_count": 8,
   "id": "a5fb218b-948c-4449-a9e3-18ae8a6989be",
   "metadata": {},
   "outputs": [],
   "source": [
    "# # 將特徵轉換為 PyTorch 張量\n",
    "x_train_tensor = torch.from_numpy(x_train).float()\n",
    "x_val_tensor = torch.from_numpy(x_val).float()\n",
    "\n",
    "y_train_tensor = torch.FloatTensor(y_train)  # Convert target variable to Long data type\n",
    "y_val_tensor = torch.FloatTensor(y_val)      # Convert target variable to Long data type\n"
   ]
  },
  {
   "cell_type": "code",
   "execution_count": 9,
   "id": "8b088a04-fbeb-4716-8342-0faff65b77ce",
   "metadata": {},
   "outputs": [],
   "source": [
    "# 創建 PyTorch 的 DataLoader\n",
    "train_dataset = TensorDataset(x_train_tensor, y_train_tensor)\n",
    "val_dataset = TensorDataset(x_val_tensor, y_val_tensor)\n",
    "batch_size = 32\n",
    "train_loader = DataLoader(train_dataset, batch_size=batch_size, shuffle=True)\n",
    "val_loader = DataLoader(val_dataset, batch_size=batch_size, shuffle=False)"
   ]
  },
  {
   "cell_type": "code",
   "execution_count": 10,
   "id": "7ff653e2-48c9-43c2-95e1-c78823f106d7",
   "metadata": {},
   "outputs": [
    {
     "name": "stdout",
     "output_type": "stream",
     "text": [
      "torch.Size([63325, 1, 32, 32])\n"
     ]
    }
   ],
   "source": [
    "print(x_train_tensor.shape)"
   ]
  },
  {
   "cell_type": "markdown",
   "id": "a5b932f3-d307-4143-a2fb-2f2d27db76cf",
   "metadata": {},
   "source": [
    "### chatGPT"
   ]
  },
  {
   "cell_type": "code",
   "execution_count": 11,
   "id": "3774e526-211c-4397-93e9-7fa01c9c6ad4",
   "metadata": {},
   "outputs": [],
   "source": [
    "import torch\n",
    "import torch.nn as nn\n",
    "\n",
    "class LeNet5(nn.Module):\n",
    "    def __init__(self, num_classes=50):\n",
    "        super(LeNet5, self).__init__()\n",
    "        self.features = nn.Sequential(\n",
    "            nn.Conv2d(1, 6, kernel_size=5, stride=1),\n",
    "            nn.ReLU(inplace=True),\n",
    "            nn.MaxPool2d(kernel_size=2, stride=2),\n",
    "            nn.Conv2d(6, 16, kernel_size=5, stride=1),\n",
    "            nn.ReLU(inplace=True),\n",
    "            nn.MaxPool2d(kernel_size=2, stride=2)\n",
    "        )\n",
    "        self.classifier = nn.Sequential(\n",
    "            nn.Linear(16 * 5 * 5, 120),\n",
    "            nn.ReLU(inplace=True),\n",
    "            nn.Linear(120, 84),\n",
    "            nn.ReLU(inplace=True),\n",
    "            nn.Linear(84, num_classes)\n",
    "        )\n",
    "\n",
    "    def forward(self, x):\n",
    "        x = self.features(x)\n",
    "        x = x.view(x.size(0), 16 * 5 * 5)\n",
    "        x = self.classifier(x)\n",
    "        return x\n"
   ]
  },
  {
   "cell_type": "code",
   "execution_count": 12,
   "id": "077485ed-9df9-42b1-bd0d-188c8525c373",
   "metadata": {},
   "outputs": [],
   "source": [
    "learning_rate = 0.001\n",
    "num_epochs = 10\n"
   ]
  },
  {
   "cell_type": "code",
   "execution_count": 13,
   "id": "1c298918-42cd-4bc3-9bc3-678ac51370cf",
   "metadata": {},
   "outputs": [],
   "source": [
    "if torch.cuda.is_available():\n",
    "    device = torch.device(\"cuda:0\")\n",
    "else:\n",
    "    device = torch.device(\"cpu\")\n"
   ]
  },
  {
   "cell_type": "code",
   "execution_count": 14,
   "id": "529f2ce8-a594-458a-909b-292434025846",
   "metadata": {
    "tags": []
   },
   "outputs": [
    {
     "name": "stdout",
     "output_type": "stream",
     "text": [
      "CPU times: user 3.16 s, sys: 1.56 s, total: 4.73 s\n",
      "Wall time: 7.27 s\n"
     ]
    }
   ],
   "source": [
    "%%time\n",
    "\n",
    "# Define the LeNet-5 model, loss function and optimizer# Create an instance of the LeNet-5 model\n",
    "model = LeNet5().to(device)\n",
    "\n",
    "# 定義損失函數和優化器\n",
    "criterion = nn.CrossEntropyLoss()\n",
    "optimizer = optim.Adam(model.parameters(), lr=learning_rate)\n",
    "\n",
    "# 定義存儲 loss 和 accuracy 的列表\n",
    "# 儲存每個epoch的損失和準確率\n",
    "train_losses = []\n",
    "train_accuracies = []\n",
    "val_losses = []\n",
    "val_accuracies = []"
   ]
  },
  {
   "cell_type": "code",
   "execution_count": 15,
   "id": "b6388315-6b93-4a94-88b6-a37b8066913b",
   "metadata": {},
   "outputs": [
    {
     "name": "stdout",
     "output_type": "stream",
     "text": [
      "Epoch 1/10\n",
      "Train Loss: 3.6517 | Train Accuracy: 0.0650\n",
      "Validation Loss: 3.4923 | Validation Accuracy: 0.0911\n",
      "\n",
      "Epoch 2/10\n",
      "Train Loss: 3.4324 | Train Accuracy: 0.1003\n",
      "Validation Loss: 3.3739 | Validation Accuracy: 0.0978\n",
      "\n",
      "Epoch 3/10\n",
      "Train Loss: 3.3500 | Train Accuracy: 0.1183\n",
      "Validation Loss: 3.3458 | Validation Accuracy: 0.1200\n",
      "\n",
      "Epoch 4/10\n",
      "Train Loss: 3.2967 | Train Accuracy: 0.1292\n",
      "Validation Loss: 3.3223 | Validation Accuracy: 0.1267\n",
      "\n",
      "Epoch 5/10\n",
      "Train Loss: 3.2506 | Train Accuracy: 0.1396\n",
      "Validation Loss: 3.2500 | Validation Accuracy: 0.1422\n",
      "\n",
      "Epoch 6/10\n",
      "Train Loss: 3.2168 | Train Accuracy: 0.1456\n",
      "Validation Loss: 3.2222 | Validation Accuracy: 0.1422\n",
      "\n",
      "Epoch 7/10\n",
      "Train Loss: 3.1900 | Train Accuracy: 0.1525\n",
      "Validation Loss: 3.1880 | Validation Accuracy: 0.1778\n",
      "\n",
      "Epoch 8/10\n",
      "Train Loss: 3.1614 | Train Accuracy: 0.1591\n",
      "Validation Loss: 3.1654 | Validation Accuracy: 0.1600\n",
      "\n",
      "Epoch 9/10\n",
      "Train Loss: 3.1394 | Train Accuracy: 0.1643\n",
      "Validation Loss: 3.1872 | Validation Accuracy: 0.1511\n",
      "\n",
      "Epoch 10/10\n",
      "Train Loss: 3.1151 | Train Accuracy: 0.1690\n",
      "Validation Loss: 3.1753 | Validation Accuracy: 0.1667\n",
      "\n",
      "CPU times: user 1min 23s, sys: 387 ms, total: 1min 23s\n",
      "Wall time: 1min 23s\n"
     ]
    }
   ],
   "source": [
    "%%time\n",
    "\n",
    "for epoch in range(num_epochs):\n",
    "    # 訓練模式\n",
    "    model.train()\n",
    "    train_loss = 0.0\n",
    "    correct_train = 0\n",
    "\n",
    "    \n",
    "    for images, labels in train_loader:\n",
    "        images = images.to(device)\n",
    "        labels = labels.to(device)\n",
    "        \n",
    "        # 步驟 1: 正向傳播\n",
    "        outputs = model(images)\n",
    "        loss = criterion(outputs, labels)\n",
    "        \n",
    "        # 步驟 2: 反向傳播和優化\n",
    "        optimizer.zero_grad()\n",
    "        loss.backward()\n",
    "        optimizer.step()\n",
    "        \n",
    "        # 累計訓練損失\n",
    "        train_loss += loss.item() * images.size(0)\n",
    "        \n",
    "        # 計算訓練集準確率        \n",
    "        predicted_train = torch.argmax(outputs, dim=1)\n",
    "        labels = torch.argmax(labels, dim=1)\n",
    "        correct_train += (predicted_train == labels).sum().item()\n",
    "    \n",
    "    # 計算訓練集的平均損失\n",
    "    train_loss /= len(train_dataset)\n",
    "    train_accuracy = correct_train / len(train_dataset)\n",
    "\n",
    "    \n",
    "    # 評估模式\n",
    "    model.eval()\n",
    "    val_loss = 0.0\n",
    "    correct = 0\n",
    "    \n",
    "    with torch.no_grad():\n",
    "        for images, labels in val_loader:\n",
    "            images = images.to(device)\n",
    "            labels = labels.to(device)\n",
    "            \n",
    "            # 正向傳播\n",
    "            outputs = model(images)\n",
    "            loss = criterion(outputs, labels)\n",
    "            val_loss += loss.item() * images.size(0)\n",
    "            \n",
    "            # 計算準確率\n",
    "            predicted = torch.argmax(outputs, dim=1)\n",
    "            labels = torch.argmax(labels, dim=1)\n",
    "            correct += (predicted == labels).sum().item()\n",
    "    \n",
    "    # 計算測試集的平均損失和準確率\n",
    "    val_loss /= len(val_dataset)\n",
    "    val_accuracy = correct / len(val_dataset)\n",
    "    \n",
    "    # 將 loss 和 accuracy 儲存起來\n",
    "    train_losses.append(train_loss)\n",
    "    train_accuracies.append(train_accuracy)\n",
    "    val_losses.append(val_loss)\n",
    "    val_accuracies.append(val_accuracy)\n",
    "    \n",
    "    # 列印每個epoch的訓練和測試結果\n",
    "    print(f\"Epoch {epoch+1}/{num_epochs}\")\n",
    "    print(f\"Train Loss: {train_loss:.4f} | Train Accuracy: {train_accuracy:.4f}\")\n",
    "    print(f\"Validation Loss: {val_loss:.4f} | Validation Accuracy: {val_accuracy:.4f}\")\n",
    "    print()\n",
    "    # print(f\"Epoch [{epoch+1}/{num_epochs}], Train Loss: {train_loss:.4f}, Test Loss: {test_loss:.4f}, Test Accuracy: {test_accuracy:.4f}\")"
   ]
  },
  {
   "cell_type": "markdown",
   "id": "46094874-71a4-4377-9d41-30029e09e39c",
   "metadata": {},
   "source": [
    "### Predicted Result"
   ]
  },
  {
   "cell_type": "markdown",
   "id": "cbaf1674-6d24-4d7b-bbca-d4c99afc3dc1",
   "metadata": {},
   "source": [
    "- Validation set"
   ]
  },
  {
   "cell_type": "code",
   "execution_count": 16,
   "id": "b8851f4d-d394-458a-877c-e6d811ae0740",
   "metadata": {},
   "outputs": [
    {
     "name": "stdout",
     "output_type": "stream",
     "text": [
      "Predicted validation Loss: 3.1753 | Predicted validation Accuracy: 75.0000\n"
     ]
    }
   ],
   "source": [
    "# 测试模式\n",
    "model.eval()\n",
    "predict_val_loss = 0.0\n",
    "predict_val_correct_test = 0\n",
    "\n",
    "with torch.no_grad():\n",
    "    for images, labels in val_loader:\n",
    "        images = images.to(device)\n",
    "        labels = labels.to(device)\n",
    "        \n",
    "        # 正向传播\n",
    "        outputs = model(images)\n",
    "        loss = criterion(outputs, labels)\n",
    "        predict_val_loss += loss.item() * images.size(0)\n",
    "        \n",
    "        # 计算测试集准确率\n",
    "        predicted_test = torch.argmax(outputs, dim=1)\n",
    "        labels = torch.argmax(labels, dim=1)\n",
    "        predict_val_correct_test += (predicted_test == labels).sum().item()\n",
    "\n",
    "# 计算测试集的平均损失和准确率\n",
    "predict_val_loss /= len(val_dataset)\n",
    "predict_val_accuracy = predict_val_correct_test / len(val_dataset)\n",
    "\n",
    "print(f\"Predicted validation Loss: {predict_val_loss:.4f} | Predicted validation Accuracy: {predict_val_correct_test:.4f}\")"
   ]
  },
  {
   "cell_type": "markdown",
   "id": "fde3d1a8-e339-4a3e-8ba8-5bc1313573cb",
   "metadata": {},
   "source": [
    "- Testing set"
   ]
  },
  {
   "cell_type": "code",
   "execution_count": 17,
   "id": "d72c056f-1651-429d-955a-bac0dfeaceb7",
   "metadata": {},
   "outputs": [
    {
     "name": "stdout",
     "output_type": "stream",
     "text": [
      "Test Loss: 3.1682 | Test Accuracy: 0.1533\n"
     ]
    }
   ],
   "source": [
    "x_test_tensor = torch.from_numpy(x_test).float()\n",
    "# # y_val_tensor = torch.from_numpy(y_val).long()\n",
    "\n",
    "y_test_tensor = torch.FloatTensor(y_test) \n",
    "\n",
    "test_dataset = TensorDataset(x_test_tensor, y_test_tensor)\n",
    "batch_size = 32\n",
    "test_loader = DataLoader(test_dataset, batch_size=batch_size, shuffle=True)\n",
    "# 测试模式\n",
    "model.eval()\n",
    "test_loss = 0.0\n",
    "correct_test = 0\n",
    "\n",
    "with torch.no_grad():\n",
    "    for images, labels in test_loader:\n",
    "        images = images.to(device)\n",
    "        labels = labels.to(device)\n",
    "        \n",
    "        # 正向传播\n",
    "        outputs = model(images)\n",
    "        loss = criterion(outputs, labels)\n",
    "        test_loss += loss.item() * images.size(0)\n",
    "        \n",
    "        # 计算测试集准确率\n",
    "        predicted_test = torch.argmax(outputs, dim=1)\n",
    "        labels = torch.argmax(labels, dim=1)\n",
    "        # _, predicted_test = torch.max(outputs, 1)\n",
    "        correct_test += (predicted_test == labels).sum().item()\n",
    "\n",
    "# 计算测试集的平均损失和准确率\n",
    "test_loss /= len(test_dataset)\n",
    "test_accuracy = correct_test / len(test_dataset)\n",
    "\n",
    "print(f\"Test Loss: {test_loss:.4f} | Test Accuracy: {test_accuracy:.4f}\")"
   ]
  },
  {
   "cell_type": "code",
   "execution_count": 18,
   "id": "0f2f5a59-7ed9-41ab-a2f7-6473906b0dbc",
   "metadata": {},
   "outputs": [
    {
     "data": {
      "image/png": "[encoded data removed]",
      "text/plain": [
       "<Figure size 504x288 with 1 Axes>"
      ]
     },
     "metadata": {
      "needs_background": "light"
     },
     "output_type": "display_data"
    },
    {
     "data": {
      "image/png": "[encoded data removed]",
      "text/plain": [
       "<Figure size 504x288 with 1 Axes>"
      ]
     },
     "metadata": {
      "needs_background": "light"
     },
     "output_type": "display_data"
    }
   ],
   "source": [
    "import matplotlib.pyplot as plt\n",
    "\n",
    "\n",
    "# Plot the training and validation accuracy\n",
    "plt.figure(figsize=(7, 4))\n",
    "plt.plot(train_accuracies, label='Train Accuracy')\n",
    "plt.plot(val_accuracies, label='Test Accuracy')\n",
    "plt.title('Training and Validation Accuracy')\n",
    "plt.xlabel('Epoch')\n",
    "plt.ylabel('Accuracy')\n",
    "plt.legend(['Train', 'Validation'], loc='lower right')\n",
    "plt.savefig('pytorch_acc.png')\n",
    "plt.show()\n",
    "\n",
    "# Plot the training and validation loss\n",
    "plt.figure(figsize=(7, 4))\n",
    "plt.plot(train_losses, label='Train Loss')\n",
    "plt.plot(val_losses, label='Test Loss')\n",
    "plt.title('Training and Validation Loss')\n",
    "plt.xlabel('Epoch')\n",
    "plt.ylabel('Loss')\n",
    "plt.legend(['Train', 'Validation'], loc='upper right')\n",
    "plt.savefig('pytorch_loss.png')\n",
    "plt.show()"
   ]
  },
  {
   "cell_type": "markdown",
   "id": "917645ca-d48e-4a33-966a-3bfca7c184b8",
   "metadata": {},
   "source": [
    "### Inference time"
   ]
  },
  {
   "cell_type": "code",
   "execution_count": 19,
   "id": "f960bc8d-9909-44c6-953e-c0aa7c350c27",
   "metadata": {},
   "outputs": [
    {
     "name": "stdout",
     "output_type": "stream",
     "text": [
      "Average Inference Time: 0.000526 seconds\n"
     ]
    }
   ],
   "source": [
    "# Move the model to the device\n",
    "device = torch.device(\"cuda\" if torch.cuda.is_available() else \"cpu\")\n",
    "model = model.to(device)\n",
    "\n",
    "# Generate random input tensor\n",
    "input_shape = (batch_size, 1, 32, 32)  # Define the input shape\n",
    "input_tensor = torch.randn(input_shape).to(device)\n",
    "\n",
    "# Warm-up the model\n",
    "_ = model(input_tensor)\n",
    "\n",
    "# Measure inference time\n",
    "total_time = 0\n",
    "num_iterations = 100  # Number of iterations for measurement\n",
    "for _ in range(num_iterations):\n",
    "    torch.cuda.synchronize()  # Synchronize CUDA operations\n",
    "    start_time = time.time()\n",
    "\n",
    "    # Forward pass\n",
    "    with torch.no_grad():\n",
    "        output = model(input_tensor)\n",
    "\n",
    "    torch.cuda.synchronize()  # Synchronize CUDA operations\n",
    "    end_time = time.time()\n",
    "\n",
    "    iteration_time = end_time - start_time\n",
    "    total_time += iteration_time\n",
    "\n",
    "average_time = total_time / num_iterations\n",
    "print(\"Average Inference Time: %.6f seconds\" % average_time)\n"
   ]
  },
  {
   "cell_type": "code",
   "execution_count": 24,
   "id": "b599378d-dc3a-477b-83b4-276169f25d0b",
   "metadata": {},
   "outputs": [
    {
     "name": "stdout",
     "output_type": "stream",
     "text": [
      "Inference Time: 0.001308 seconds\n"
     ]
    }
   ],
   "source": [
    "# Generate random input tensor for one batch\n",
    "input_shape = (batch_size, 1, 32, 32)  # Define the input shape\n",
    "input_tensor = torch.randn(input_shape).to(device)\n",
    "\n",
    "# Warm-up the model\n",
    "_ = model(input_tensor)\n",
    "\n",
    "# Measure inference time\n",
    "torch.cuda.synchronize()  # Synchronize CUDA operations\n",
    "start_time = time.time()\n",
    "\n",
    "# Forward pass\n",
    "with torch.no_grad():\n",
    "    output = model(input_tensor)\n",
    "\n",
    "torch.cuda.synchronize()  # Synchronize CUDA operations\n",
    "end_time = time.time()\n",
    "\n",
    "inference_time = end_time - start_time\n",
    "print(\"Inference Time: %.6f seconds\" % inference_time)"
   ]
  },
  {
   "cell_type": "markdown",
   "id": "70176797-23eb-452b-bbd6-476c0045afda",
   "metadata": {},
   "source": [
    "### FLOPs、Space complexity"
   ]
  },
  {
   "cell_type": "code",
   "execution_count": 26,
   "id": "00fb1efe-3465-422d-a1b8-83070ff8bfc5",
   "metadata": {},
   "outputs": [
    {
     "name": "stdout",
     "output_type": "stream",
     "text": [
      "[INFO] Register count_convNd() for <class 'torch.nn.modules.conv.Conv2d'>.\n",
      "[INFO] Register zero_ops() for <class 'torch.nn.modules.activation.ReLU'>.\n",
      "[INFO] Register zero_ops() for <class 'torch.nn.modules.pooling.MaxPool2d'>.\n",
      "[INFO] Register zero_ops() for <class 'torch.nn.modules.container.Sequential'>.\n",
      "[INFO] Register count_linear() for <class 'torch.nn.modules.linear.Linear'>.\n",
      "LeNet-5 FLOPs: 13.4362 MFLOPs\n",
      "LeNet-5 Parameters: 0.0651 Million\n"
     ]
    }
   ],
   "source": [
    "from thop import profile\n",
    "\n",
    "# 创建一个示例输入张量\n",
    "input_shape = (batch_size, 1, 32, 32)  # (batch_size, channels, height, width)\n",
    "\n",
    "input_tensor = torch.randn(input_shape).to(device)\n",
    "input_list = [input_tensor]\n",
    "\n",
    "# 使用torchprofile估计FLOPs和参数数量\n",
    "flops, params = profile(model, input_list)\n",
    "\n",
    "print(\"LeNet-5 FLOPs: %.4f MFLOPs\" % (flops / 1e6))\n",
    "print(\"LeNet-5 Parameters: %.4f Million\" % (params / 1e6))"
   ]
  }
 ],
 "metadata": {
  "kernelspec": {
   "display_name": "Python 3",
   "language": "python",
   "name": "python3"
  },
  "language_info": {
   "codemirror_mode": {
    "name": "ipython",
    "version": 3
   },
   "file_extension": ".py",
   "mimetype": "text/x-python",
   "name": "python",
   "nbconvert_exporter": "python",
   "pygments_lexer": "ipython3",
   "version": "3.6.9"
  }
 },
 "nbformat": 4,
 "nbformat_minor": 5
}
