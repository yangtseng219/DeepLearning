{
 "cells": [
  {
   "cell_type": "code",
   "execution_count": 1,
   "id": "f8507f3d-a278-4c07-a36d-b48e48e7febf",
   "metadata": {},
   "outputs": [],
   "source": [
    "import numpy as np\n",
    "from sklearn.metrics import accuracy_score\n",
    "from tqdm.notebook import tqdm\n",
    "import random\n",
    "import math\n",
    "import tensorflow as tf\n",
    "import os\n",
    "import time\n"
   ]
  },
  {
   "cell_type": "code",
   "execution_count": 2,
   "id": "8367ee91-f32d-4a03-a429-aa3ebee4bb8a",
   "metadata": {},
   "outputs": [],
   "source": [
    "#載入圖片特徵\n",
    "#於image_feature.ipynb中實作並儲存\n",
    "train_features = np.load('feature/train_features_lenet.npy', allow_pickle=True)\n",
    "train_labels = np.load('feature/train_labels.npy', allow_pickle=True)\n",
    "val_features = np.load('feature/val_features_lenet.npy', allow_pickle=True)\n",
    "val_labels = np.load('feature/val_labels.npy', allow_pickle=True)\n",
    "test_features = np.load('feature/test_features_lenet.npy', allow_pickle=True)\n",
    "test_labels = np.load('feature/test_labels.npy', allow_pickle=True)"
   ]
  },
  {
   "cell_type": "code",
   "execution_count": 3,
   "id": "d5cfa0ce-48f6-4abb-9e69-6b0e554d4d09",
   "metadata": {},
   "outputs": [],
   "source": [
    "def one_hot_encoding(y):\n",
    "    y=y.astype(int) #將label的0~49轉成數字\n",
    "    num_classes = 50 #共50個label\n",
    "    y_onehot = np.zeros((len(y), num_classes))\n",
    "    y_onehot[np.arange(len(y)), y] = 1 #轉成one hot\n",
    "    return y_onehot\n",
    "\n",
    "def union_shuffle(X, y):\n",
    "    X=X.astype(float) #features的原始讀取到的資料型態是object，轉成float\n",
    "    index = np.arange(X.shape[0])\n",
    "    np.random.shuffle(index) #將資料排序打亂\n",
    "    return X[index], y[index]\n"
   ]
  },
  {
   "cell_type": "code",
   "execution_count": 4,
   "id": "72f2b8a4-6d00-48a7-82ff-0d694efcab88",
   "metadata": {},
   "outputs": [],
   "source": [
    "# One-hot encode labels\n",
    "y_train = one_hot_encoding(train_labels)\n",
    "y_valid = one_hot_encoding(val_labels)\n",
    "y_test = one_hot_encoding(test_labels)\n",
    "\n",
    "# Shuffle data\n",
    "x_train, y_train = union_shuffle(train_features, y_train)\n",
    "x_val, y_val = union_shuffle(val_features, y_valid)\n",
    "x_test, y_test = union_shuffle(test_features, y_test)"
   ]
  },
  {
   "cell_type": "code",
   "execution_count": 5,
   "id": "5bfb87a6-d7d3-4841-84fe-e905b69dd6ec",
   "metadata": {},
   "outputs": [
    {
     "name": "stdout",
     "output_type": "stream",
     "text": [
      "(63325, 32, 32, 1)\n",
      "(63325, 50)\n",
      "(450, 32, 32, 1)\n",
      "(450, 50)\n",
      "[0. 0. 0. 0. 0. 0. 0. 0. 0. 0. 0. 0. 0. 0. 0. 0. 0. 0. 1. 0. 0. 0. 0. 0.\n",
      " 0. 0. 0. 0. 0. 0. 0. 0. 0. 0. 0. 0. 0. 0. 0. 0. 0. 0. 0. 0. 0. 0. 0. 0.\n",
      " 0. 0.]\n"
     ]
    }
   ],
   "source": [
    "print(x_train.shape)\n",
    "print(y_train.shape)\n",
    "print(x_val.shape)\n",
    "print(y_val.shape)\n",
    "print(y_train[1])"
   ]
  },
  {
   "attachments": {},
   "cell_type": "markdown",
   "id": "05277cff-2933-4a60-9d7e-f28289d5875e",
   "metadata": {},
   "source": [
    "### Lenet5 "
   ]
  },
  {
   "cell_type": "code",
   "execution_count": 6,
   "id": "418bac00-7ccf-4290-a209-264abb04ad1d",
   "metadata": {},
   "outputs": [],
   "source": [
    "# Define the LeNet-5 model\n",
    "def lenet5():\n",
    "    model = tf.keras.Sequential()\n",
    "    \n",
    "    # Convolutional layer 1\n",
    "    model.add(tf.keras.layers.Conv2D(filters=6, kernel_size=(5, 5), activation='relu', input_shape=(32, 32, 1)))\n",
    "    model.add(tf.keras.layers.MaxPooling2D(pool_size=(2, 2)))\n",
    "    \n",
    "    # Convolutional layer 2\n",
    "    model.add(tf.keras.layers.Conv2D(filters=16, kernel_size=(5, 5), activation='relu'))\n",
    "    model.add(tf.keras.layers.MaxPooling2D(pool_size=(2, 2)))\n",
    "    \n",
    "    # Flatten the previous layer output\n",
    "    model.add(tf.keras.layers.Flatten())\n",
    "    \n",
    "    # Fully connected layers\n",
    "    model.add(tf.keras.layers.Dense(units=120, activation='relu'))\n",
    "    model.add(tf.keras.layers.Dense(units=84, activation='relu'))\n",
    "    \n",
    "    # Output layer\n",
    "    model.add(tf.keras.layers.Dense(units=50, activation='softmax')) ##輸出50個label\n",
    "    \n",
    "    return model"
   ]
  },
  {
   "attachments": {},
   "cell_type": "markdown",
   "id": "a5b932f3-d307-4143-a2fb-2f2d27db76cf",
   "metadata": {},
   "source": [
    "### chatGPT\n",
    "- If you are using one-hot encoding for the labels, you should modify the model's loss function and use 'categorical_crossentropy' instead of 'sparse_categorical_crossentropy'. Additionally, you need to ensure that the labels are one-hot encoded before passing them to the fit function."
   ]
  },
  {
   "cell_type": "code",
   "execution_count": 7,
   "id": "f599874b-6ad4-4b2d-b0f5-6578f1867a82",
   "metadata": {},
   "outputs": [
    {
     "name": "stdout",
     "output_type": "stream",
     "text": [
      "Model: \"sequential\"\n",
      "_________________________________________________________________\n",
      "Layer (type)                 Output Shape              Param #   \n",
      "=================================================================\n",
      "conv2d (Conv2D)              (None, 28, 28, 6)         156       \n",
      "_________________________________________________________________\n",
      "max_pooling2d (MaxPooling2D) (None, 14, 14, 6)         0         \n",
      "_________________________________________________________________\n",
      "conv2d_1 (Conv2D)            (None, 10, 10, 16)        2416      \n",
      "_________________________________________________________________\n",
      "max_pooling2d_1 (MaxPooling2 (None, 5, 5, 16)          0         \n",
      "_________________________________________________________________\n",
      "flatten (Flatten)            (None, 400)               0         \n",
      "_________________________________________________________________\n",
      "dense (Dense)                (None, 120)               48120     \n",
      "_________________________________________________________________\n",
      "dense_1 (Dense)              (None, 84)                10164     \n",
      "_________________________________________________________________\n",
      "dense_2 (Dense)              (None, 50)                4250      \n",
      "=================================================================\n",
      "Total params: 65,106\n",
      "Trainable params: 65,106\n",
      "Non-trainable params: 0\n",
      "_________________________________________________________________\n"
     ]
    }
   ],
   "source": [
    "# Define the LeNet-5 model, loss function and optimizer# Create an instance of the LeNet-5 model\n",
    "model = lenet5()\n",
    "\n",
    "# Compile the model\n",
    "# model.compile(optimizer='adam', loss='sparse_categorical_crossentropy', metrics=['accuracy'])  有問題\n",
    "model.compile(optimizer='adam', loss='categorical_crossentropy', metrics=['accuracy'])\n",
    "\n",
    "model.summary()"
   ]
  },
  {
   "cell_type": "code",
   "execution_count": 8,
   "id": "33b09b4f-6441-41e8-940c-ef9c7ed38695",
   "metadata": {},
   "outputs": [
    {
     "name": "stdout",
     "output_type": "stream",
     "text": [
      "Epoch 1/10\n",
      "1978/1978 [==============================] - 18s 6ms/step - loss: 3.5897 - accuracy: 0.0772 - val_loss: 3.4034 - val_accuracy: 0.1000\n",
      "Epoch 2/10\n",
      "1978/1978 [==============================] - 13s 6ms/step - loss: 3.3397 - accuracy: 0.1234 - val_loss: 3.2629 - val_accuracy: 0.1400\n",
      "Epoch 3/10\n",
      "1978/1978 [==============================] - 13s 6ms/step - loss: 3.2357 - accuracy: 0.1432 - val_loss: 3.2122 - val_accuracy: 0.1556\n",
      "Epoch 4/10\n",
      "1978/1978 [==============================] - 13s 6ms/step - loss: 3.1684 - accuracy: 0.1599 - val_loss: 3.2066 - val_accuracy: 0.1489\n",
      "Epoch 5/10\n",
      "1978/1978 [==============================] - 13s 6ms/step - loss: 3.1147 - accuracy: 0.1695 - val_loss: 3.1976 - val_accuracy: 0.1689\n",
      "Epoch 6/10\n",
      "1978/1978 [==============================] - 13s 6ms/step - loss: 3.0673 - accuracy: 0.1791 - val_loss: 3.1870 - val_accuracy: 0.1489\n",
      "Epoch 7/10\n",
      "1978/1978 [==============================] - 13s 6ms/step - loss: 3.0272 - accuracy: 0.1899 - val_loss: 3.1527 - val_accuracy: 0.1711\n",
      "Epoch 8/10\n",
      "1978/1978 [==============================] - 13s 6ms/step - loss: 2.9925 - accuracy: 0.1981 - val_loss: 3.1249 - val_accuracy: 0.1711\n",
      "Epoch 9/10\n",
      "1978/1978 [==============================] - 12s 6ms/step - loss: 2.9585 - accuracy: 0.2036 - val_loss: 3.1808 - val_accuracy: 0.1756\n",
      "Epoch 10/10\n",
      "1978/1978 [==============================] - 13s 6ms/step - loss: 2.9232 - accuracy: 0.2123 - val_loss: 3.2058 - val_accuracy: 0.1644\n",
      "Training time: 132.42 seconds\n",
      "CPU times: user 2min 1s, sys: 11.3 s, total: 2min 13s\n",
      "Wall time: 2min 12s\n"
     ]
    }
   ],
   "source": [
    "%%time\n",
    "# Train the model\n",
    "# Set batch size\n",
    "batch_size = 32\n",
    "\n",
    "# Calculate the number of batches per epoch\n",
    "num_batches = len(x_train) // batch_size\n",
    "\n",
    "# Start the timer\n",
    "dynamic_start_time = time.time()\n",
    "# Train the model with batched data\n",
    "history = model.fit(\n",
    "    x_train,\n",
    "    y_train,\n",
    "    batch_size=batch_size,\n",
    "    epochs=10,\n",
    "    validation_data=(x_val, y_val),\n",
    "    steps_per_epoch=num_batches\n",
    ")\n",
    "# Calculate the training time\n",
    "dynamic_training_time = time.time() - dynamic_start_time\n",
    "print(\"Training time: %.2f seconds\" % dynamic_training_time)\n",
    "# history = model.fit(x_train, y_train, batch_size=32, epochs=10, validation_data=(x_val, y_val))"
   ]
  },
  {
   "cell_type": "code",
   "execution_count": 9,
   "id": "9ca232f8-0294-4f26-b1dc-3749a8ba6819",
   "metadata": {},
   "outputs": [
    {
     "name": "stdout",
     "output_type": "stream",
     "text": [
      "15/15 [==============================] - 0s 2ms/step - loss: 3.0579 - accuracy: 0.1956\n",
      "Test loss: 3.05788254737854\n",
      "Test accuracy: 0.19555555284023285\n"
     ]
    }
   ],
   "source": [
    "# Evaluate the model\n",
    "loss, accuracy = model.evaluate(x_test, y_test)\n",
    "print(f\"Test loss: {loss}\")\n",
    "print(f\"Test accuracy: {accuracy}\")"
   ]
  },
  {
   "cell_type": "code",
   "execution_count": 10,
   "id": "fb18dd19-2128-484e-9da0-644e6f49ee8b",
   "metadata": {},
   "outputs": [
    {
     "name": "stdout",
     "output_type": "stream",
     "text": [
      "15/15 [==============================] - 0s 2ms/step - loss: 3.2058 - accuracy: 0.1644\n",
      "Validation set loss: 3.2057905197143555\n",
      "Validation set accuracy: 0.1644444465637207\n"
     ]
    }
   ],
   "source": [
    "# Evaluate the model\n",
    "val_loss, val_accuracy = model.evaluate(x_val, y_val)\n",
    "print(f\"Validation set loss: {val_loss}\")\n",
    "print(f\"Validation set accuracy: {val_accuracy}\")"
   ]
  },
  {
   "cell_type": "code",
   "execution_count": 11,
   "id": "0f2f5a59-7ed9-41ab-a2f7-6473906b0dbc",
   "metadata": {},
   "outputs": [
    {
     "data": {
      "image/png": "[encoded data removed]",
      "text/plain": [
       "<Figure size 576x288 with 1 Axes>"
      ]
     },
     "metadata": {
      "needs_background": "light"
     },
     "output_type": "display_data"
    },
    {
     "data": {
      "image/png": "[encoded data removed]",
      "text/plain": [
       "<Figure size 576x288 with 1 Axes>"
      ]
     },
     "metadata": {
      "needs_background": "light"
     },
     "output_type": "display_data"
    }
   ],
   "source": [
    "import matplotlib.pyplot as plt\n",
    "\n",
    "\n",
    "# Plot the training and validation accuracy\n",
    "plt.figure(figsize=(8, 4))\n",
    "plt.plot(history.history['accuracy'])\n",
    "plt.plot(history.history['val_accuracy'])\n",
    "plt.title('Training and Validation Accuracy')\n",
    "plt.xlabel('Epoch')\n",
    "plt.ylabel('Accuracy')\n",
    "plt.legend(['Train', 'Validation'], loc='lower right')\n",
    "plt.savefig('tf_acc.png')\n",
    "plt.show()\n",
    "\n",
    "# Plot the training and validation loss\n",
    "plt.figure(figsize=(8, 4))\n",
    "plt.plot(history.history['loss'])\n",
    "plt.plot(history.history['val_loss'])\n",
    "plt.title('Training and Validation Loss')\n",
    "plt.xlabel('Epoch')\n",
    "plt.ylabel('Loss')\n",
    "plt.legend(['Train', 'Validation'], loc='upper right')\n",
    "plt.savefig('tf_loss.png')\n",
    "plt.show()"
   ]
  },
  {
   "attachments": {},
   "cell_type": "markdown",
   "id": "6a4dd2ad-a2a2-465c-8d40-84e9ab708c67",
   "metadata": {},
   "source": [
    "### Inference time\n",
    "- 動態圖"
   ]
  },
  {
   "cell_type": "code",
   "execution_count": 19,
   "id": "07915f07-107d-4094-a35f-ed1ae961beaf",
   "metadata": {},
   "outputs": [
    {
     "name": "stdout",
     "output_type": "stream",
     "text": [
      "Dynamic Inference Time for One Batch: 0.005083 seconds\n"
     ]
    }
   ],
   "source": [
    "import time\n",
    "# Generate random input tensor for one batch\n",
    "input_shape = (batch_size, 32, 32, 1)  # Define the input shape\n",
    "input_tensor = tf.random.normal(input_shape)\n",
    "\n",
    "# Warm-up the model\n",
    "_ = model(input_tensor)\n",
    "\n",
    "# Measure inference time\n",
    "start_time = time.time()\n",
    "\n",
    "# Forward pass\n",
    "output = model(input_tensor)\n",
    "\n",
    "end_time = time.time()\n",
    "inference_time = end_time - start_time\n",
    "print(\"Dynamic Inference Time for One Batch: %.6f seconds\" % inference_time)"
   ]
  },
  {
   "attachments": {},
   "cell_type": "markdown",
   "id": "e8e2ebc5",
   "metadata": {},
   "source": [
    "- 靜態圖"
   ]
  },
  {
   "cell_type": "code",
   "execution_count": 18,
   "id": "4819378b-17da-4cf7-89f2-9e0ae8046e91",
   "metadata": {},
   "outputs": [
    {
     "name": "stdout",
     "output_type": "stream",
     "text": [
      "Static Inference Time for One Batch: 0.001622 seconds\n"
     ]
    }
   ],
   "source": [
    "import time\n",
    "# Generate random input tensor for one batch\n",
    "input_shape = (batch_size, 32, 32, 1)  # Define the input shape\n",
    "input_tensor = tf.random.normal(input_shape)\n",
    "\n",
    "static_model = tf.function(model)\n",
    "\n",
    "# Warm-up the model\n",
    "_ = static_model(input_tensor)\n",
    "\n",
    "\n",
    "# Measure inference time\n",
    "static_start_time = time.time()\n",
    "\n",
    "# Forward pass\n",
    "static_output = static_model(input_tensor)\n",
    "\n",
    "static_end_time = time.time()\n",
    "static_inference_time = static_end_time - static_start_time\n",
    "print(\"Static Inference Time for One Batch: %.6f seconds\" % static_inference_time)"
   ]
  },
  {
   "attachments": {},
   "cell_type": "markdown",
   "id": "dcc1d8b8",
   "metadata": {},
   "source": [
    "### Training time\n",
    "- 靜態圖\n",
    "- 動態圖於上方訓練過程中計算"
   ]
  },
  {
   "cell_type": "code",
   "execution_count": 14,
   "id": "db0c43d3-647e-425d-9eba-dbb58735ab8c",
   "metadata": {},
   "outputs": [
    {
     "name": "stdout",
     "output_type": "stream",
     "text": [
      "Static Graph Training Time: 1.1024 seconds\n"
     ]
    }
   ],
   "source": [
    "# Create static graph model using tf.function\n",
    "@tf.function(autograph=True)\n",
    "def static_graph_model(x, y):\n",
    "    y_prob = model(x)\n",
    "    loss = tf.reduce_mean(tf.losses.categorical_crossentropy(y, y_prob))\n",
    "    return y_prob, loss\n",
    "\n",
    "# Calculate the training time for static graph\n",
    "static_start_time = time.time()\n",
    "static_graph_model(x_train, y_train)\n",
    "static_training_time = time.time() - static_start_time\n",
    "\n",
    "print(\"Static Graph Training Time: %.4f seconds\" % static_training_time)"
   ]
  },
  {
   "attachments": {},
   "cell_type": "markdown",
   "id": "63842f9d-a68d-40ed-8761-d3d938e9549c",
   "metadata": {},
   "source": [
    "### FLOPs、Space complexity\n",
    "https://pypi.org/project/model-profiler/"
   ]
  },
  {
   "cell_type": "code",
   "execution_count": 16,
   "id": "3f0fe6f5-3392-4528-a8f7-3f6e0fc95672",
   "metadata": {},
   "outputs": [
    {
     "name": "stdout",
     "output_type": "stream",
     "text": [
      "| Model Profile                    | Value      | Unit    |\n",
      "|----------------------------------|------------|---------|\n",
      "| Selected GPUs                    | ['0', '1'] | GPU IDs |\n",
      "| No. of FLOPs                     | 0.0084     | MFLOPs  |\n",
      "| GPU Memory Requirement           | 1.1038     | MB      |\n",
      "| Model Parameters                 | 0.0651     | Million |\n",
      "| Memory Required by Model Weights | 0.2484     | MB      |\n"
     ]
    },
    {
     "name": "stderr",
     "output_type": "stream",
     "text": [
      "/usr/local/lib/python3.6/dist-packages/numpy/core/_asarray.py:83: VisibleDeprecationWarning: Creating an ndarray from ragged nested sequences (which is a list-or-tuple of lists-or-tuples-or ndarrays with different lengths or shapes) is deprecated. If you meant to do this, you must specify 'dtype=object' when creating the ndarray\n",
      "  return array(a, dtype, copy=False, order=order)\n"
     ]
    }
   ],
   "source": [
    "from model_profiler import model_profiler\n",
    "profile = model_profiler(model, batch_size, use_units = ['GPU IDs', 'MFLOPs', 'MB', 'Million', 'MB'])\n",
    "print(profile)"
   ]
  }
 ],
 "metadata": {
  "kernelspec": {
   "display_name": "Python 3",
   "language": "python",
   "name": "python3"
  },
  "language_info": {
   "codemirror_mode": {
    "name": "ipython",
    "version": 3
   },
   "file_extension": ".py",
   "mimetype": "text/x-python",
   "name": "python",
   "nbconvert_exporter": "python",
   "pygments_lexer": "ipython3",
   "version": "3.6.9"
  }
 },
 "nbformat": 4,
 "nbformat_minor": 5
}
