{
 "cells": [
  {
   "cell_type": "markdown",
   "metadata": {
    "id": "vryXqEjDN0-Y"
   },
   "source": [
    "提取資料到array"
   ]
  },
  {
   "cell_type": "code",
   "execution_count": 1,
   "metadata": {},
   "outputs": [],
   "source": [
    "import cv2\n",
    "import numpy as np\n"
   ]
  },
  {
   "cell_type": "code",
   "execution_count": 14,
   "metadata": {},
   "outputs": [],
   "source": [
    "x_train = np.load('train_features.npy', allow_pickle=True)\n",
    "y_train = np.load('train_labels.npy', allow_pickle=True)\n",
    "x_val = np.load('val_features.npy', allow_pickle=True)\n",
    "y_val = np.load('val_labels.npy', allow_pickle=True)\n",
    "x_test = np.load('test_features.npy', allow_pickle=True)\n",
    "y_test = np.load('test_labels.npy', allow_pickle=True)"
   ]
  },
  {
   "cell_type": "code",
   "execution_count": 11,
   "metadata": {},
   "outputs": [
    {
     "name": "stdout",
     "output_type": "stream",
     "text": [
      "(450, 2916)\n"
     ]
    }
   ],
   "source": [
    "print(np.shape(x_test))\n"
   ]
  },
  {
   "cell_type": "code",
   "execution_count": 21,
   "metadata": {},
   "outputs": [
    {
     "name": "stdout",
     "output_type": "stream",
     "text": [
      "1\n"
     ]
    }
   ],
   "source": [
    "print(y_test[10])"
   ]
  },
  {
   "cell_type": "markdown",
   "metadata": {},
   "source": [
    "Perceptron"
   ]
  },
  {
   "cell_type": "code",
   "execution_count": 15,
   "metadata": {},
   "outputs": [
    {
     "data": {
      "text/plain": [
       "Perceptron()"
      ]
     },
     "execution_count": 15,
     "metadata": {},
     "output_type": "execute_result"
    }
   ],
   "source": [
    "from sklearn.linear_model import Perceptron\n",
    "clf = Perceptron()\n",
    "clf.fit(x_test, y_test)"
   ]
  },
  {
   "cell_type": "code",
   "execution_count": 16,
   "metadata": {},
   "outputs": [
    {
     "name": "stdout",
     "output_type": "stream",
     "text": [
      "Perceptron Classifier\n",
      "validation_data_accuracy:0.03111111111111111\n",
      "CPU times: user 77.8 ms, sys: 56.6 ms, total: 134 ms\n",
      "Wall time: 81.4 ms\n"
     ]
    }
   ],
   "source": [
    "%%time\n",
    "\n",
    "from sklearn.metrics import accuracy_score\n",
    "print('Perceptron Classifier')\n",
    "\n",
    "# valid Perceptron classifier\n",
    "val_pred_perceptron = clf.predict(x_val)\n",
    "val_accuracy = accuracy_score(y_val, val_pred_perceptron)\n",
    "print(f'validation_data_accuracy:{val_accuracy}')\n"
   ]
  },
  {
   "cell_type": "code",
   "execution_count": 17,
   "metadata": {},
   "outputs": [
    {
     "name": "stdout",
     "output_type": "stream",
     "text": [
      "test_data_accuracy:0.9666666666666667\n",
      "CPU times: user 106 ms, sys: 42.7 ms, total: 149 ms\n",
      "Wall time: 76.2 ms\n"
     ]
    }
   ],
   "source": [
    "%%time\n",
    "# test Perceptron classifier\n",
    "test_pred_perceptron = clf.predict(x_test)\n",
    "test_accuracy = accuracy_score(y_test, test_pred_perceptron)\n",
    "print(f'test_data_accuracy:{test_accuracy}')"
   ]
  }
 ],
 "metadata": {
  "accelerator": "GPU",
  "colab": {
   "provenance": []
  },
  "gpuClass": "standard",
  "kernelspec": {
   "display_name": "Python 3",
   "language": "python",
   "name": "python3"
  },
  "language_info": {
   "codemirror_mode": {
    "name": "ipython",
    "version": 3
   },
   "file_extension": ".py",
   "mimetype": "text/x-python",
   "name": "python",
   "nbconvert_exporter": "python",
   "pygments_lexer": "ipython3",
   "version": "3.6.9"
  },
  "vscode": {
   "interpreter": {
    "hash": "fb4569285eef3a3450cb62085a5b1e0da4bce0af555edc33dcf29baf3acc1368"
   }
  }
 },
 "nbformat": 4,
 "nbformat_minor": 4
}
